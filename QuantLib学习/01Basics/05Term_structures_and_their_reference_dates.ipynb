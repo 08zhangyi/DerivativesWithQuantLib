{
 "cells": [
  {
   "cell_type": "code",
   "execution_count": 1,
   "metadata": {
    "collapsed": true
   },
   "outputs": [],
   "source": [
    "import QuantLib as ql\n",
    "ql.Settings.instance().evaluationDate = ql.Date(3, ql.October, 2014)"
   ]
  },
  {
   "cell_type": "code",
   "execution_count": 2,
   "metadata": {},
   "outputs": [],
   "source": [
    "helpers = [ql.SwapRateHelper(ql.QuoteHandle(ql.SimpleQuote(rate/100.0)), ql.Period(*tenor), ql.TARGET(), ql.Annual, ql.Unadjusted, ql.Thirty360(), ql.Euribor6M())\\\n",
    "           for tenor, rate in [((2, ql.Years), 0.201), ((3, ql.Years), 0.258), ((5, ql.Years), 0.464), ((10, ql.Years), 1.151), ((15, ql.Years), 1.588)]]"
   ]
  },
  {
   "cell_type": "code",
   "execution_count": 3,
   "metadata": {},
   "outputs": [],
   "source": [
    "curve1 = ql.PiecewiseFlatForward(0, ql.TARGET(), helpers, ql.Actual360())"
   ]
  },
  {
   "cell_type": "code",
   "execution_count": 4,
   "metadata": {},
   "outputs": [],
   "source": [
    "dates, rates = zip(*curve1.nodes())"
   ]
  },
  {
   "cell_type": "code",
   "execution_count": 5,
   "metadata": {},
   "outputs": [
    {
     "data": {
      "text/plain": [
       "((Date(3,10,2014), 0.0019777694879293093),\n (Date(7,10,2016), 0.0019777694879293093),\n (Date(9,10,2017), 0.0036475517704509294),\n (Date(7,10,2019), 0.007660760701876805),\n (Date(7,10,2024), 0.018414773669420893),\n (Date(8,10,2029), 0.025311634328221498))"
      ]
     },
     "execution_count": 5,
     "metadata": {},
     "output_type": "execute_result"
    }
   ],
   "source": [
    "curve1.nodes()"
   ]
  },
  {
   "cell_type": "code",
   "execution_count": 6,
   "metadata": {},
   "outputs": [],
   "source": [
    "curve2 = ql.ForwardCurve(dates, rates, ql.Actual360())"
   ]
  },
  {
   "cell_type": "code",
   "execution_count": 7,
   "metadata": {},
   "outputs": [
    {
     "name": "stdout",
     "output_type": "stream",
     "text": [
      "October 3rd, 2014 to October 8th, 2029\nOctober 3rd, 2014 to October 8th, 2029\n"
     ]
    }
   ],
   "source": [
    "print(\"{0} to {1}\".format(curve1.referenceDate(), curve1.maxDate()))\n",
    "print(\"{0} to {1}\".format(curve2.referenceDate(), curve2.maxDate()))"
   ]
  },
  {
   "cell_type": "code",
   "execution_count": 8,
   "metadata": {},
   "outputs": [
    {
     "name": "stdout",
     "output_type": "stream",
     "text": [
      "0.452196 % Actual/360 continuous compounding\n0.452196 % Actual/360 continuous compounding\n"
     ]
    }
   ],
   "source": [
    "print(curve1.zeroRate(5.0, ql.Continuous))\n",
    "print(curve2.zeroRate(5.0, ql.Continuous))"
   ]
  },
  {
   "cell_type": "code",
   "execution_count": 9,
   "metadata": {},
   "outputs": [
    {
     "name": "stdout",
     "output_type": "stream",
     "text": [
      "0.452196 % Actual/360 continuous compounding\n0.452196 % Actual/360 continuous compounding\n"
     ]
    }
   ],
   "source": [
    "print(curve1.zeroRate(ql.Date(7, ql.September, 2019), ql.Actual360(), ql.Continuous))\n",
    "print(curve2.zeroRate(ql.Date(7, ql.September, 2019), ql.Actual360(), ql.Continuous))"
   ]
  },
  {
   "cell_type": "code",
   "execution_count": 10,
   "metadata": {},
   "outputs": [],
   "source": [
    "%matplotlib inline\n",
    "import matplotlib.pyplot as plt\n",
    "from matplotlib.ticker import FuncFormatter\n",
    "import numpy as np"
   ]
  },
  {
   "cell_type": "code",
   "execution_count": 11,
   "metadata": {},
   "outputs": [
    {
     "data": {
      "text/plain": [
       "[<matplotlib.lines.Line2D at 0x242f2517240>]"
      ]
     },
     "execution_count": 11,
     "metadata": {},
     "output_type": "execute_result"
    },
    {
     "data": {
      "image/png": "[encoded data removed]",
      "text/plain": [
       "<matplotlib.figure.Figure at 0x242f2517358>"
      ]
     },
     "metadata": {},
     "output_type": "display_data"
    }
   ],
   "source": [
    "times = np.linspace(0.0, 15.0, 400)\n",
    "rates = [curve1.zeroRate(t, ql.Continuous).rate() for t in times]\n",
    "_, ax = plt.subplots()\n",
    "ax.plot(times, rates)"
   ]
  },
  {
   "cell_type": "code",
   "execution_count": 25,
   "metadata": {},
   "outputs": [],
   "source": [
    "ql.Settings.instance().evaluationDate = ql.Date(19, ql.September, 2014)"
   ]
  },
  {
   "cell_type": "code",
   "execution_count": 26,
   "metadata": {},
   "outputs": [
    {
     "name": "stdout",
     "output_type": "stream",
     "text": [
      "September 19th, 2014 to September 24th, 2029\nOctober 3rd, 2014 to October 8th, 2029\n"
     ]
    }
   ],
   "source": [
    "print(\"{0} to {1}\".format(curve1.referenceDate(), curve1.maxDate()))\n",
    "print(\"{0} to {1}\".format(curve2.referenceDate(), curve2.maxDate()))"
   ]
  },
  {
   "cell_type": "code",
   "execution_count": 27,
   "metadata": {},
   "outputs": [
    {
     "name": "stdout",
     "output_type": "stream",
     "text": [
      "0.452196 % Actual/360 continuous compounding\n0.452196 % Actual/360 continuous compounding\n"
     ]
    }
   ],
   "source": [
    "print(curve1.zeroRate(5.0, ql.Continuous))\n",
    "print(curve2.zeroRate(5.0, ql.Continuous))"
   ]
  },
  {
   "cell_type": "code",
   "execution_count": 28,
   "metadata": {},
   "outputs": [
    {
     "name": "stdout",
     "output_type": "stream",
     "text": [
      "0.454618 % Actual/360 continuous compounding\n0.452196 % Actual/360 continuous compounding\n"
     ]
    }
   ],
   "source": [
    "print(curve1.zeroRate(ql.Date(7, ql.September, 2019), ql.Actual360(), ql.Continuous))\n",
    "print(curve2.zeroRate(ql.Date(7, ql.September, 2019), ql.Actual360(), ql.Continuous))"
   ]
  },
  {
   "cell_type": "code",
   "execution_count": 29,
   "metadata": {},
   "outputs": [],
   "source": [
    "def make_observer(i):\n",
    "    def say():\n",
    "        s = \"Observer %d notified\" % i\n",
    "        print('-'*len(s))\n",
    "        print(s)\n",
    "        print('-'*len(s))\n",
    "    return ql.Observer(say)\n",
    "obs1 = make_observer(1)\n",
    "obs2 = make_observer(2)"
   ]
  },
  {
   "cell_type": "code",
   "execution_count": 30,
   "metadata": {},
   "outputs": [],
   "source": [
    "q1 = ql.SimpleQuote(1.0)\n",
    "obs1.registerWith(q1)\n",
    "q2 = ql.SimpleQuote(2.0)\n",
    "obs2.registerWith(q2)\n",
    "q3 = ql.SimpleQuote(3.0)\n",
    "obs1.registerWith(q3)\n",
    "obs2.registerWith(q3)"
   ]
  },
  {
   "cell_type": "code",
   "execution_count": 31,
   "metadata": {},
   "outputs": [
    {
     "name": "stdout",
     "output_type": "stream",
     "text": [
      "-------------------\nObserver 1 notified\n-------------------\n"
     ]
    }
   ],
   "source": [
    "q1.setValue(1.5)"
   ]
  },
  {
   "cell_type": "code",
   "execution_count": 32,
   "metadata": {},
   "outputs": [
    {
     "name": "stdout",
     "output_type": "stream",
     "text": [
      "-------------------\nObserver 2 notified\n-------------------\n"
     ]
    }
   ],
   "source": [
    "q2.setValue(1.9)"
   ]
  },
  {
   "cell_type": "code",
   "execution_count": 33,
   "metadata": {},
   "outputs": [
    {
     "name": "stdout",
     "output_type": "stream",
     "text": [
      "-------------------\nObserver 2 notified\n-------------------\n-------------------\nObserver 1 notified\n-------------------\n"
     ]
    }
   ],
   "source": [
    "q3.setValue(3.1)"
   ]
  },
  {
   "cell_type": "code",
   "execution_count": 34,
   "metadata": {},
   "outputs": [],
   "source": [
    "obs1.registerWith(curve1)\n",
    "obs2.registerWith(curve2)"
   ]
  },
  {
   "cell_type": "code",
   "execution_count": 35,
   "metadata": {},
   "outputs": [
    {
     "name": "stdout",
     "output_type": "stream",
     "text": [
      "-------------------\nObserver 1 notified\n-------------------\n"
     ]
    }
   ],
   "source": [
    "ql.Settings.instance().evaluationDate = ql.Date(23, ql.September, 2014)"
   ]
  },
  {
   "cell_type": "code",
   "execution_count": null,
   "metadata": {},
   "outputs": [],
   "source": []
  }
 ],
 "metadata": {
  "kernelspec": {
   "display_name": "Python 2",
   "language": "python",
   "name": "python2"
  },
  "language_info": {
   "codemirror_mode": {
    "name": "ipython",
    "version": 2
   },
   "file_extension": ".py",
   "mimetype": "text/x-python",
   "name": "python",
   "nbconvert_exporter": "python",
   "pygments_lexer": "ipython2",
   "version": "2.7.6"
  }
 },
 "nbformat": 4,
 "nbformat_minor": 0
}
