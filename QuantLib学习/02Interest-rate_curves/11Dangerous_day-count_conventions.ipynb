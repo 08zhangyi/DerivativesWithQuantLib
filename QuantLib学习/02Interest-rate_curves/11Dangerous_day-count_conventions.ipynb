{
 "cells": [
  {
   "cell_type": "code",
   "execution_count": 1,
   "metadata": {
    "collapsed": true
   },
   "outputs": [],
   "source": [
    "import QuantLib as ql\n",
    "today = ql.Date(22, 1, 2018)\n",
    "ql.Settings.instance().evaluationDate = today\n",
    "%matplotlib inline\n",
    "import matplotlib.pyplot as plt"
   ]
  },
  {
   "cell_type": "code",
   "execution_count": 2,
   "metadata": {},
   "outputs": [],
   "source": [
    "dc = ql.Thirty360(ql.Thirty360.USA)"
   ]
  },
  {
   "cell_type": "code",
   "execution_count": 3,
   "metadata": {},
   "outputs": [],
   "source": [
    "d1 = ql.Date(1, ql.January, 2018)\n",
    "d2 = ql.Date(15, ql.January, 2018)\n",
    "d3 = ql.Date(31, ql.January, 2018)"
   ]
  },
  {
   "cell_type": "code",
   "execution_count": 4,
   "metadata": {},
   "outputs": [
    {
     "name": "stdout",
     "output_type": "stream",
     "text": [
      "0.08333333333333334\n0.08333333333333333\n"
     ]
    }
   ],
   "source": [
    "print(dc.yearFraction(d1, d2) + dc.yearFraction(d2, d3))\n",
    "print(dc.yearFraction(d1, d3))"
   ]
  },
  {
   "cell_type": "code",
   "execution_count": 5,
   "metadata": {},
   "outputs": [],
   "source": [
    "d1 = ql.Date(1, ql.January, 2018)\n",
    "d2 = ql.Date(30, ql.January, 2018)\n",
    "d3 = ql.Date(31, ql.January, 2018)"
   ]
  },
  {
   "cell_type": "code",
   "execution_count": 6,
   "metadata": {},
   "outputs": [
    {
     "name": "stdout",
     "output_type": "stream",
     "text": [
      "0.08055555555555556\n0.08333333333333333\n"
     ]
    }
   ],
   "source": [
    "print(dc.yearFraction(d1, d2) + dc.yearFraction(d2, d3))\n",
    "print(dc.yearFraction(d1, d3))"
   ]
  },
  {
   "cell_type": "code",
   "execution_count": 8,
   "metadata": {},
   "outputs": [
    {
     "name": "stdout",
     "output_type": "stream",
     "text": [
      "0.0\n"
     ]
    }
   ],
   "source": [
    "d1 = ql.Date(30, ql.January, 2018)\n",
    "d2 = ql.Date(31, ql.January, 2018)\n",
    "print(dc.yearFraction(d1, d2))"
   ]
  },
  {
   "cell_type": "code",
   "execution_count": 9,
   "metadata": {},
   "outputs": [],
   "source": [
    "d1 = ql.Date(1, ql.January, 2018)\n",
    "d2 = ql.Date(15, ql.January, 2018)\n",
    "reference_period = (ql.Date(1, ql.January, 2018), ql.Date(1, ql.July, 2018))"
   ]
  },
  {
   "cell_type": "code",
   "execution_count": 10,
   "metadata": {},
   "outputs": [
    {
     "name": "stdout",
     "output_type": "stream",
     "text": [
      "0.03867403314917127\n0.038356164383561646\n"
     ]
    }
   ],
   "source": [
    "dc = ql.ActualActual(ql.ActualActual.ISMA)\n",
    "print(dc.yearFraction(d1, d2, *reference_period))\n",
    "print(dc.yearFraction(d1, d2))"
   ]
  },
  {
   "cell_type": "code",
   "execution_count": 11,
   "metadata": {},
   "outputs": [
    {
     "data": {
      "text/plain": [
       "[<matplotlib.lines.Line2D at 0x24a1e32d1d0>]"
      ]
     },
     "execution_count": 11,
     "metadata": {},
     "output_type": "execute_result"
    },
    {
     "data": {
      "image/png": "[encoded data removed]",
      "text/plain": [
       "<matplotlib.figure.Figure at 0x24a1c2782b0>"
      ]
     },
     "metadata": {},
     "output_type": "display_data"
    }
   ],
   "source": [
    "d1 = ql.Date(1, ql.January, 2018)\n",
    "dates = [(d1+i) for i in range(366)]\n",
    "times = [dc.yearFraction(d1, d) for d in dates]\n",
    "plt.plot(times)"
   ]
  },
  {
   "cell_type": "code",
   "execution_count": 12,
   "metadata": {},
   "outputs": [],
   "source": [
    "curve = ql.FlatForward(today, 0.01, ql.ActualActual(ql.ActualActual.ISMA))"
   ]
  },
  {
   "cell_type": "code",
   "execution_count": 13,
   "metadata": {},
   "outputs": [
    {
     "data": {
      "text/plain": [
       "[<matplotlib.lines.Line2D at 0x24a1e5144a8>]"
      ]
     },
     "execution_count": 13,
     "metadata": {},
     "output_type": "execute_result"
    },
    {
     "data": {
      "image/png": "[encoded data removed]",
      "text/plain": [
       "<matplotlib.figure.Figure at 0x24a1c253d68>"
      ]
     },
     "metadata": {},
     "output_type": "display_data"
    }
   ],
   "source": [
    "dates = [(today+i) for i in range(366)]\n",
    "discounts = [curve.discount(d) for d in dates]\n",
    "plt.plot(discounts)"
   ]
  },
  {
   "cell_type": "code",
   "execution_count": null,
   "metadata": {},
   "outputs": [],
   "source": []
  }
 ],
 "metadata": {
  "kernelspec": {
   "display_name": "Python 2",
   "language": "python",
   "name": "python2"
  },
  "language_info": {
   "codemirror_mode": {
    "name": "ipython",
    "version": 2
   },
   "file_extension": ".py",
   "mimetype": "text/x-python",
   "name": "python",
   "nbconvert_exporter": "python",
   "pygments_lexer": "ipython2",
   "version": "2.7.6"
  }
 },
 "nbformat": 4,
 "nbformat_minor": 0
}
