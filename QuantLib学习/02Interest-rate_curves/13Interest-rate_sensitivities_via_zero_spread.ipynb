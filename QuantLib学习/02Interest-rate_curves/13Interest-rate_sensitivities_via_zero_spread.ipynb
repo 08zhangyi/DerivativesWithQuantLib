{
 "cells": [
  {
   "cell_type": "code",
   "execution_count": 1,
   "metadata": {
    "collapsed": true
   },
   "outputs": [],
   "source": [
    "import QuantLib as ql\n",
    "today = ql.Date(8, ql.March, 2016)\n",
    "ql.Settings.instance().evaluationDate = today"
   ]
  },
  {
   "cell_type": "code",
   "execution_count": 2,
   "metadata": {},
   "outputs": [],
   "source": [
    "%matplotlib inline\n",
    "import numpy as np\n",
    "import matplotlib.pyplot as plt"
   ]
  },
  {
   "cell_type": "code",
   "execution_count": 7,
   "metadata": {},
   "outputs": [],
   "source": [
    "def plot_curves(*curves):\n",
    "    times = np.linspace(0.0, 15.0, 400)\n",
    "    for curve, style in curves:\n",
    "        rates = [curve.zeroRate(t, ql.Continuous).rate() for t in times]\n",
    "        plt.plot(times, rates, style)\n",
    "def plot_curve(curve):\n",
    "    plot_curves((curve, '-'))"
   ]
  },
  {
   "cell_type": "code",
   "execution_count": 10,
   "metadata": {},
   "outputs": [],
   "source": [
    "quotes = [ql.SimpleQuote(0.312/100)]\n",
    "helpers = [ql.DepositRateHelper(ql.QuoteHandle(quotes[0]), ql.Period(6, ql.Months), 3, ql.TARGET(), ql.Following, False, ql.Actual360())]\n",
    "\n",
    "for rate, months_to_start in [(0.293, 1), (0.272, 2), (0.260, 3), (0.256, 4), (0.252, 5), (0.248, 6), (0.254, 7), (0.261, 8), (0.267, 9),\n",
    "                              (0.279, 10), (0.291, 11), (0.303, 12), (0.318, 13), (0.335, 14), (0.352, 15), (0.371, 16), (0.389, 17), (0.409, 18)]:\n",
    "    quotes.append(ql.SimpleQuote(rate/100))\n",
    "    helpers.append(ql.FraRateHelper(ql.QuoteHandle(quotes[-1]), months_to_start, ql.Euribor6M()))\n",
    "    \n",
    "for rate, tenor in [(0.424, 3), (0.576, 4), (0.762, 5), (0.954, 6), (1.135, 7), (1.303, 8), (1.452, 9), (1.584, 10),\n",
    "                    (1.809, 12), (2.037, 15), (2.187, 20), (2.234, 25), (2.256, 30), (2.295, 35), (2.348, 40), (2.421, 50),\n",
    "                    (2.463, 60)]:\n",
    "    quotes.append(ql.SimpleQuote(rate/100))\n",
    "    helpers.append(ql.SwapRateHelper(ql.QuoteHandle(quotes[-1]), ql.Period(tenor, ql.Years), ql.TARGET(), ql.Annual, ql.Unadjusted, ql.Thirty360(ql.Thirty360.BondBasis), ql.Euribor6M()))\n",
    "    \n",
    "rate_curve = ql.PiecewiseLogCubicDiscount(2, ql.TARGET(), helpers, ql.Actual365Fixed())\n",
    "curve_handle = ql.RelinkableYieldTermStructureHandle(rate_curve)"
   ]
  },
  {
   "cell_type": "code",
   "execution_count": 11,
   "metadata": {},
   "outputs": [
    {
     "data": {
      "image/png": "[encoded data removed]",
      "text/plain": [
       "<matplotlib.figure.Figure at 0x20a70235c88>"
      ]
     },
     "metadata": {},
     "output_type": "display_data"
    }
   ],
   "source": [
    "plot_curve(rate_curve)"
   ]
  },
  {
   "cell_type": "code",
   "execution_count": 12,
   "metadata": {},
   "outputs": [],
   "source": [
    "fixed_schedule = ql.Schedule(ql.Date(8, ql.April, 2016), ql.Date(8, ql.April, 2028), ql.Period(1, ql.Years), ql.TARGET(), ql.Following, ql.Following, ql.DateGeneration.Forward, False)\n",
    "floating_schedule = ql.Schedule(ql.Date(8, ql.April, 2016), ql.Date(8, ql.April, 2028), ql.Period(6, ql.Months), ql.TARGET(), ql.Following, ql.Following, ql.DateGeneration.Forward, False)\n",
    "index = ql.Euribor6M(curve_handle)\n",
    "swap = ql.VanillaSwap(ql.VanillaSwap.Payer, 10000.0, fixed_schedule, 0.02, ql.Thirty360(), floating_schedule, index, 0.0, ql.Actual360())"
   ]
  },
  {
   "cell_type": "code",
   "execution_count": 13,
   "metadata": {},
   "outputs": [
    {
     "name": "stdout",
     "output_type": "stream",
     "text": [
      "-189.83267948709272\n"
     ]
    }
   ],
   "source": [
    "swap.setPricingEngine(ql.DiscountingSwapEngine(curve_handle))\n",
    "P0 = swap.NPV()\n",
    "print(P0)"
   ]
  },
  {
   "cell_type": "code",
   "execution_count": null,
   "metadata": {},
   "outputs": [],
   "source": []
  }
 ],
 "metadata": {
  "kernelspec": {
   "display_name": "Python 2",
   "language": "python",
   "name": "python2"
  },
  "language_info": {
   "codemirror_mode": {
    "name": "ipython",
    "version": 2
   },
   "file_extension": ".py",
   "mimetype": "text/x-python",
   "name": "python",
   "nbconvert_exporter": "python",
   "pygments_lexer": "ipython2",
   "version": "2.7.6"
  }
 },
 "nbformat": 4,
 "nbformat_minor": 0
}
