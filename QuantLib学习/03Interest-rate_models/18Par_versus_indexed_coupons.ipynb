{
 "cells": [
  {
   "cell_type": "code",
   "execution_count": 1,
   "metadata": {
    "collapsed": true
   },
   "outputs": [],
   "source": [
    "import QuantLib as ql\n",
    "import pandas as pd\n",
    "\n",
    "today = ql.Date(7, ql.January, 2013)\n",
    "ql.Settings.instance().evaluationDate = today"
   ]
  },
  {
   "cell_type": "code",
   "execution_count": 2,
   "metadata": {},
   "outputs": [],
   "source": [
    "dates, forwards = zip(*[(ql.Date(7, 1, 2013), 0.03613672438543303),\n",
    "                        (ql.Date(8, 4, 2013), 0.03613672438543303),\n",
    "                        (ql.Date(8, 7, 2013), 0.033849133719219514),\n",
    "                        (ql.Date(7, 1, 2014), 0.03573931373272106),\n",
    "                        (ql.Date(7, 7, 2014), 0.03445303757052511)])\n",
    "libor_curve = ql.ForwardCurve(dates, forwards, ql.Actual365Fixed())"
   ]
  },
  {
   "cell_type": "code",
   "execution_count": 3,
   "metadata": {},
   "outputs": [],
   "source": [
    "index = ql.GBPLibor(ql.Period(6, ql.Months), ql.YieldTermStructureHandle(libor_curve))\n",
    "calendar = index.fixingCalendar()\n",
    "nominal = 1000000\n",
    "length = 1\n",
    "maturity = calendar.advance(today, length, ql.Years)\n",
    "adjustment = index.businessDayConvention()\n",
    "schedule = ql.Schedule(today, maturity, index.tenor(), calendar, adjustment, adjustment, ql.DateGeneration.Backward, False)\n",
    "floating_leg = ql.IborLeg([nominal], schedule, index, index.dayCounter())"
   ]
  },
  {
   "cell_type": "code",
   "execution_count": 4,
   "metadata": {},
   "outputs": [
    {
     "data": {
      "text/html": [
       "<div>\n",
       "<style>\n",
       "    .dataframe thead tr:only-child th {\n",
       "        text-align: right;\n",
       "    }\n",
       "\n",
       "    .dataframe thead th {\n",
       "        text-align: left;\n",
       "    }\n",
       "\n",
       "    .dataframe tbody tr th {\n",
       "        vertical-align: top;\n",
       "    }\n",
       "</style>\n",
       "<table border=\"1\" class=\"dataframe\">\n",
       "  <thead>\n",
       "    <tr style=\"text-align: right;\">\n",
       "      <th></th>\n",
       "      <th>fixing date</th>\n",
       "      <th>index fixing</th>\n",
       "      <th>start date</th>\n",
       "      <th>end date</th>\n",
       "      <th>days</th>\n",
       "      <th>accrual period</th>\n",
       "      <th>amount</th>\n",
       "    </tr>\n",
       "  </thead>\n",
       "  <tbody>\n",
       "    <tr>\n",
       "      <th>0</th>\n",
       "      <td>January 7th, 2013</td>\n",
       "      <td>0.035300</td>\n",
       "      <td>January 7th, 2013</td>\n",
       "      <td>July 8th, 2013</td>\n",
       "      <td>182</td>\n",
       "      <td>0.49863</td>\n",
       "      <td>17601.6</td>\n",
       "    </tr>\n",
       "    <tr>\n",
       "      <th>1</th>\n",
       "      <td>July 8th, 2013</td>\n",
       "      <td>0.036056</td>\n",
       "      <td>July 8th, 2013</td>\n",
       "      <td>January 7th, 2014</td>\n",
       "      <td>183</td>\n",
       "      <td>0.50137</td>\n",
       "      <td>18077.4</td>\n",
       "    </tr>\n",
       "  </tbody>\n",
       "</table>\n",
       "</div>"
      ],
      "text/plain": [
       "<div>\n",
       "<style>\n",
       "    .dataframe thead tr:only-child th {\n",
       "        text-align: right;\n",
       "    }\n",
       "\n",
       "    .dataframe thead th {\n",
       "        text-align: left;\n",
       "    }\n",
       "\n",
       "    .dataframe tbody tr th {\n",
       "        vertical-align: top;\n",
       "    }\n",
       "</style>\n",
       "<table border=\"1\" class=\"dataframe\">\n",
       "  <thead>\n",
       "    <tr style=\"text-align: right;\">\n",
       "      <th></th>\n",
       "      <th>fixing date</th>\n",
       "      <th>index fixing</th>\n",
       "      <th>start date</th>\n",
       "      <th>end date</th>\n",
       "      <th>days</th>\n",
       "      <th>accrual period</th>\n",
       "      <th>amount</th>\n",
       "    </tr>\n",
       "  </thead>\n",
       "  <tbody>\n",
       "    <tr>\n",
       "      <th>0</th>\n",
       "      <td>January 7th, 2013</td>\n",
       "      <td>0.035300</td>\n",
       "      <td>January 7th, 2013</td>\n",
       "      <td>July 8th, 2013</td>\n",
       "      <td>182</td>\n",
       "      <td>0.49863</td>\n",
       "      <td>17601.6</td>\n",
       "    </tr>\n",
       "    <tr>\n",
       "      <th>1</th>\n",
       "      <td>July 8th, 2013</td>\n",
       "      <td>0.036056</td>\n",
       "      <td>July 8th, 2013</td>\n",
       "      <td>January 7th, 2014</td>\n",
       "      <td>183</td>\n",
       "      <td>0.50137</td>\n",
       "      <td>18077.4</td>\n",
       "    </tr>\n",
       "  </tbody>\n",
       "</table>\n",
       "</div>"
      ]
     },
     "execution_count": 4,
     "metadata": {},
     "output_type": "execute_result"
    }
   ],
   "source": [
    "df = pd.DataFrame()\n",
    "\n",
    "dates = list(schedule)\n",
    "df['fixing date'] = dates[:-1]\n",
    "df['index fixing'] = [index.fixing(d) for d in df['fixing date']]\n",
    "df['start date'] = dates[:-1]\n",
    "df['end date'] = dates[1:]\n",
    "df['days'] = df['end date'] - df['start date']\n",
    "df['accrual period'] = df['days'] / 365\n",
    "df['amount'] = df['index fixing'] * nominal * df['accrual period']\n",
    "\n",
    "df"
   ]
  },
  {
   "cell_type": "code",
   "execution_count": 5,
   "metadata": {},
   "outputs": [
    {
     "data": {
      "text/html": [
       "<div>\n",
       "<style>\n",
       "    .dataframe thead tr:only-child th {\n",
       "        text-align: right;\n",
       "    }\n",
       "\n",
       "    .dataframe thead th {\n",
       "        text-align: left;\n",
       "    }\n",
       "\n",
       "    .dataframe tbody tr th {\n",
       "        vertical-align: top;\n",
       "    }\n",
       "</style>\n",
       "<table border=\"1\" class=\"dataframe\">\n",
       "  <thead>\n",
       "    <tr style=\"text-align: right;\">\n",
       "      <th></th>\n",
       "      <th>amount</th>\n",
       "      <th>rate</th>\n",
       "    </tr>\n",
       "  </thead>\n",
       "  <tbody>\n",
       "    <tr>\n",
       "      <th>0</th>\n",
       "      <td>17601.643836</td>\n",
       "      <td>0.035300</td>\n",
       "    </tr>\n",
       "    <tr>\n",
       "      <th>1</th>\n",
       "      <td>18080.116395</td>\n",
       "      <td>0.036061</td>\n",
       "    </tr>\n",
       "  </tbody>\n",
       "</table>\n",
       "</div>"
      ],
      "text/plain": [
       "<div>\n",
       "<style>\n",
       "    .dataframe thead tr:only-child th {\n",
       "        text-align: right;\n",
       "    }\n",
       "\n",
       "    .dataframe thead th {\n",
       "        text-align: left;\n",
       "    }\n",
       "\n",
       "    .dataframe tbody tr th {\n",
       "        vertical-align: top;\n",
       "    }\n",
       "</style>\n",
       "<table border=\"1\" class=\"dataframe\">\n",
       "  <thead>\n",
       "    <tr style=\"text-align: right;\">\n",
       "      <th></th>\n",
       "      <th>amount</th>\n",
       "      <th>rate</th>\n",
       "    </tr>\n",
       "  </thead>\n",
       "  <tbody>\n",
       "    <tr>\n",
       "      <th>0</th>\n",
       "      <td>17601.643836</td>\n",
       "      <td>0.035300</td>\n",
       "    </tr>\n",
       "    <tr>\n",
       "      <th>1</th>\n",
       "      <td>18080.116395</td>\n",
       "      <td>0.036061</td>\n",
       "    </tr>\n",
       "  </tbody>\n",
       "</table>\n",
       "</div>"
      ]
     },
     "execution_count": 5,
     "metadata": {},
     "output_type": "execute_result"
    }
   ],
   "source": [
    "df2 = pd.DataFrame({'amount': [c.amount() for c in floating_leg], 'rate': [ql.as_coupon(c).rate() for c in floating_leg]})\n",
    "\n",
    "df2"
   ]
  },
  {
   "cell_type": "code",
   "execution_count": 6,
   "metadata": {},
   "outputs": [
    {
     "name": "stdout",
     "output_type": "stream",
     "text": [
      "July 8th, 2013\n0.036056087457623655\n"
     ]
    }
   ],
   "source": [
    "coupon = ql.as_floating_rate_coupon(floating_leg[1])\n",
    "print(coupon.fixingDate())\n",
    "print(index.fixing(coupon.fixingDate()))"
   ]
  },
  {
   "cell_type": "code",
   "execution_count": 7,
   "metadata": {},
   "outputs": [
    {
     "name": "stdout",
     "output_type": "stream",
     "text": [
      "July 8th, 2013\nJanuary 8th, 2014\n"
     ]
    }
   ],
   "source": [
    "startDate = index.valueDate(coupon.fixingDate())\n",
    "endDate = index.maturityDate(startDate)\n",
    "print(startDate)\n",
    "print(endDate)"
   ]
  },
  {
   "cell_type": "code",
   "execution_count": 8,
   "metadata": {},
   "outputs": [
    {
     "name": "stdout",
     "output_type": "stream",
     "text": [
      "3.605609 % Actual/365 (Fixed) simple compounding\n"
     ]
    }
   ],
   "source": [
    "print(libor_curve.forwardRate(startDate, endDate, coupon.dayCounter(), ql.Simple))"
   ]
  },
  {
   "cell_type": "code",
   "execution_count": 9,
   "metadata": {},
   "outputs": [
    {
     "name": "stdout",
     "output_type": "stream",
     "text": [
      "July 8th, 2013\nJanuary 7th, 2014\n"
     ]
    }
   ],
   "source": [
    "couponStart = coupon.accrualStartDate()\n",
    "couponEnd = coupon.accrualEndDate()\n",
    "print(couponStart)\n",
    "print(couponEnd)"
   ]
  },
  {
   "cell_type": "code",
   "execution_count": 10,
   "metadata": {},
   "outputs": [
    {
     "name": "stdout",
     "output_type": "stream",
     "text": [
      "3.606143 % Actual/365 (Fixed) simple compounding\n"
     ]
    }
   ],
   "source": [
    "print(libor_curve.forwardRate(couponStart, couponEnd, coupon.dayCounter(), ql.Simple))"
   ]
  },
  {
   "cell_type": "code",
   "execution_count": 11,
   "metadata": {},
   "outputs": [
    {
     "data": {
      "text/plain": [
       "0.0360614343399347"
      ]
     },
     "execution_count": 11,
     "metadata": {},
     "output_type": "execute_result"
    }
   ],
   "source": [
    "coupon.rate()"
   ]
  },
  {
   "cell_type": "code",
   "execution_count": 12,
   "metadata": {},
   "outputs": [
    {
     "data": {
      "text/plain": [
       "18080.116395090554"
      ]
     },
     "execution_count": 12,
     "metadata": {},
     "output_type": "execute_result"
    }
   ],
   "source": [
    "coupon.rate() * nominal * coupon.accrualPeriod()"
   ]
  },
  {
   "cell_type": "code",
   "execution_count": 13,
   "metadata": {},
   "outputs": [
    {
     "data": {
      "text/plain": [
       "18080.11639509055"
      ]
     },
     "execution_count": 13,
     "metadata": {},
     "output_type": "execute_result"
    }
   ],
   "source": [
    "coupon.amount()"
   ]
  },
  {
   "cell_type": "code",
   "execution_count": null,
   "metadata": {},
   "outputs": [],
   "source": []
  }
 ],
 "metadata": {
  "kernelspec": {
   "display_name": "Python 2",
   "language": "python",
   "name": "python2"
  },
  "language_info": {
   "codemirror_mode": {
    "name": "ipython",
    "version": 2
   },
   "file_extension": ".py",
   "mimetype": "text/x-python",
   "name": "python",
   "nbconvert_exporter": "python",
   "pygments_lexer": "ipython2",
   "version": "2.7.6"
  }
 },
 "nbformat": 4,
 "nbformat_minor": 0
}
