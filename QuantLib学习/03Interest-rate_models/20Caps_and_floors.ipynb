{
 "cells": [
  {
   "cell_type": "code",
   "execution_count": 1,
   "metadata": {
    "collapsed": true
   },
   "outputs": [],
   "source": [
    "import QuantLib as ql"
   ]
  },
  {
   "cell_type": "code",
   "execution_count": 2,
   "metadata": {},
   "outputs": [],
   "source": [
    "calc_date = ql.Date(14, 6, 2016)\n",
    "ql.Settings.instance().evaluationDate = calc_date"
   ]
  },
  {
   "cell_type": "code",
   "execution_count": 3,
   "metadata": {},
   "outputs": [],
   "source": [
    "dates = [ql.Date(14, 6, 2016), ql.Date(14, 9, 2016), ql.Date(14, 12, 2016), ql.Date(14, 6, 2017), \n",
    "         ql.Date(14, 6, 2019), ql.Date(14, 6, 2021), ql.Date(15, 6, 2026), ql.Date(16, 6, 2031), ql.Date(16, 6, 2036), ql.Date(14, 6, 2046)]\n",
    "yields = [0.000000, 0.006616, 0.007049, 0.007795,\n",
    "          0.009599, 0.011203, 0.015068, 0.017583,\n",
    "          0.018988, 0.020080]\n",
    "\n",
    "day_count = ql.ActualActual()\n",
    "calendar = ql.UnitedStates()\n",
    "interpolation = ql.Linear()\n",
    "compounding = ql.Compounded\n",
    "compounding_frequency = ql.Annual\n",
    "\n",
    "term_structure = ql.ZeroCurve(dates, yields, day_count, calendar, interpolation, compounding, compounding_frequency)\n",
    "ts_handle = ql.YieldTermStructureHandle(term_structure)"
   ]
  },
  {
   "cell_type": "code",
   "execution_count": 4,
   "metadata": {},
   "outputs": [],
   "source": [
    "start_date = ql.Date(14, 6, 2016)\n",
    "end_date = ql.Date(14, 6, 2026)\n",
    "period = ql.Period(3, ql.Months)\n",
    "calendar = ql.UnitedStates()\n",
    "buss_convention = ql.ModifiedFollowing\n",
    "rule = ql.DateGeneration.Forward\n",
    "end_of_month = False\n",
    "\n",
    "schedule = ql.Schedule(start_date, end_date, period, calendar, buss_convention, buss_convention, rule, end_of_month)"
   ]
  },
  {
   "cell_type": "code",
   "execution_count": 5,
   "metadata": {},
   "outputs": [],
   "source": [
    "ibor_index = ql.USDLibor(ql.Period(3, ql.Months), ts_handle)\n",
    "ibor_index.addFixing(ql.Date(10, 6, 2016), 0.0065560)\n",
    "ibor_log = ql.IborLeg([1000000], schedule, ibor_index)"
   ]
  },
  {
   "cell_type": "code",
   "execution_count": 6,
   "metadata": {},
   "outputs": [
    {
     "name": "stdout",
     "output_type": "stream",
     "text": [
      "54369.85806286925\n"
     ]
    }
   ],
   "source": [
    "strike = 0.02\n",
    "cap = ql.Cap(ibor_log, [strike])\n",
    "\n",
    "vols = ql.QuoteHandle(ql.SimpleQuote(0.547295))\n",
    "engine = ql.BlackCapFloorEngine(ts_handle, vols)\n",
    "\n",
    "cap.setPricingEngine(engine)\n",
    "print(cap.NPV())"
   ]
  },
  {
   "cell_type": "code",
   "execution_count": 7,
   "metadata": {},
   "outputs": [],
   "source": [
    "strikes = [0.01, 0.015, 0.02]\n",
    "temp = list(range(1, 11)) + [12]\n",
    "expiries = [ql.Period(i, ql.Years) for i in temp]\n",
    "vols = ql.Matrix(len(expiries), len(strikes))\n",
    "data = [[47.27, 55.47, 64.07, 70.14, 72.13, 69.41, 72.15, 67.28, 66.08, 68.64, 65.83],\n",
    "        [46.65, 54.15, 61.47, 65.53, 66.28, 62.83, 64.42, 60.05, 58.71, 60.35, 55.91],\n",
    "        [46.6, 52.65, 59.32, 62.05, 62.0, 58.09, 59.03, 55.0, 53.59, 54.74, 49.54]]\n",
    "for i in range(vols.rows()):\n",
    "    for j in range(vols.columns()):\n",
    "        vols[i][j] = data[j][i] / 100.0"
   ]
  },
  {
   "cell_type": "code",
   "execution_count": 8,
   "metadata": {},
   "outputs": [],
   "source": [
    "calendar = ql.UnitedStates()\n",
    "bdc = ql.ModifiedFollowing\n",
    "daycount = ql.Actual365Fixed()\n",
    "settlement_days = 2\n",
    "capfloor_vol = ql.CapFloorTermVolSurface(settlement_days, calendar, bdc, expiries, strikes, vols, daycount)"
   ]
  },
  {
   "cell_type": "code",
   "execution_count": 9,
   "metadata": {},
   "outputs": [],
   "source": [
    "optionlet_surf = ql.OptionletStripper1(capfloor_vol, ibor_index, ql.nullDouble(), 1e-6, 100, ts_handle)\n",
    "ovs_handle = ql.OptionletVolatilityStructureHandle(ql.StrippedOptionletAdapter(optionlet_surf))"
   ]
  },
  {
   "cell_type": "code",
   "execution_count": 10,
   "metadata": {},
   "outputs": [],
   "source": [
    "import matplotlib.pyplot as plt\n",
    "import numpy as np\n",
    "%matplotlib inline"
   ]
  },
  {
   "cell_type": "code",
   "execution_count": 11,
   "metadata": {},
   "outputs": [
    {
     "data": {
      "text/plain": [
       "[<matplotlib.lines.Line2D at 0x29e6f479c18>]"
      ]
     },
     "execution_count": 11,
     "metadata": {},
     "output_type": "execute_result"
    },
    {
     "data": {
      "image/png": "[encoded data removed]",
      "text/plain": [
       "<matplotlib.figure.Figure at 0x29e6d368cf8>"
      ]
     },
     "metadata": {},
     "output_type": "display_data"
    }
   ],
   "source": [
    "tenors = np.arange(0, 10, 0.25)\n",
    "strike = 0.01\n",
    "capfloor_vols = [capfloor_vol.volatility(t, strike) for t in tenors]\n",
    "optionlet_vols = [ovs_handle.volatility(t, strike) for t in tenors]\n",
    "\n",
    "fig, ax = plt.subplots()\n",
    "ax.plot(tenors, capfloor_vols, \"--\")\n",
    "ax.plot(tenors, optionlet_vols, \"-\")"
   ]
  },
  {
   "cell_type": "code",
   "execution_count": 12,
   "metadata": {},
   "outputs": [
    {
     "name": "stdout",
     "output_type": "stream",
     "text": [
      "54384.928314950135\n"
     ]
    }
   ],
   "source": [
    "engine2 = ql.BlackCapFloorEngine(ts_handle, ovs_handle)\n",
    "cap.setPricingEngine(engine2)\n",
    "print(cap.NPV())"
   ]
  },
  {
   "cell_type": "code",
   "execution_count": 13,
   "metadata": {},
   "outputs": [
    {
     "data": {
      "text/plain": [
       "0.5474438930928851"
      ]
     },
     "execution_count": 13,
     "metadata": {},
     "output_type": "execute_result"
    }
   ],
   "source": [
    "cap.impliedVolatility(cap.NPV(), ts_handle, 0.4)"
   ]
  },
  {
   "cell_type": "code",
   "execution_count": null,
   "metadata": {},
   "outputs": [],
   "source": []
  }
 ],
 "metadata": {
  "kernelspec": {
   "display_name": "Python 2",
   "language": "python",
   "name": "python2"
  },
  "language_info": {
   "codemirror_mode": {
    "name": "ipython",
    "version": 2
   },
   "file_extension": ".py",
   "mimetype": "text/x-python",
   "name": "python",
   "nbconvert_exporter": "python",
   "pygments_lexer": "ipython2",
   "version": "2.7.6"
  }
 },
 "nbformat": 4,
 "nbformat_minor": 0
}
