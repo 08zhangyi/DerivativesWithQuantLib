{
 "cells": [
  {
   "cell_type": "code",
   "execution_count": 1,
   "metadata": {
    "collapsed": true
   },
   "outputs": [],
   "source": [
    "import QuantLib as ql\n",
    "from math import pow, sqrt\n",
    "import numpy as np\n",
    "from scipy.optimize import root"
   ]
  },
  {
   "cell_type": "code",
   "execution_count": 2,
   "metadata": {},
   "outputs": [],
   "source": [
    "day_count = ql.Actual365Fixed()\n",
    "calendar = ql.UnitedStates()\n",
    "\n",
    "calculation_date = ql.Date(6, 11, 2015)\n",
    "\n",
    "spot = 659.37\n",
    "ql.Settings.instance().evaluationDate = calculation_date\n",
    "\n",
    "risk_free_rate = 0.01\n",
    "dividend_rate = 0.0\n",
    "flat_ts = ql.YieldTermStructureHandle(ql.FlatForward(calculation_date, risk_free_rate, day_count))\n",
    "dividend_ts = ql.YieldTermStructureHandle(ql.FlatForward(calculation_date, dividend_rate, day_count))"
   ]
  },
  {
   "cell_type": "code",
   "execution_count": 3,
   "metadata": {},
   "outputs": [],
   "source": [
    "expiration_dates = [ql.Date(6, 12, 2015), ql.Date(6, 1, 2016), ql.Date(6, 2, 2016),\n",
    "                    ql.Date(6, 3, 2016), ql.Date(6, 4, 2016), ql.Date(6, 5, 2016),\n",
    "                    ql.Date(6, 6, 2016), ql.Date(6, 7, 2016), ql.Date(6, 8, 2016),\n",
    "                    ql.Date(6, 9, 2016), ql.Date(6, 10, 2016), ql.Date(6, 11, 2016),\n",
    "                    ql.Date(6, 12, 2016), ql.Date(6, 1, 2017), ql.Date(6, 2, 2017),\n",
    "                    ql.Date(6, 3, 2017), ql.Date(6, 4, 2017), ql.Date(6, 5, 2017),\n",
    "                    ql.Date(6, 6, 2017), ql.Date(6, 7, 2017), ql.Date(6, 8, 2017),\n",
    "                    ql.Date(6, 9, 2017), ql.Date(6, 10, 2017), ql.Date(6, 11, 2017)]\n",
    "strikes = [527.50, 560.46, 593.43, 626.40, 659.37, 692.34, 725.31, 758.28]\n",
    "data = [[0.37819, 0.34177, 0.30394, 0.27832, 0.26453, 0.25916, 0.25941, 0.26127],\n",
    "        [0.3445, 0.31769, 0.2933, 0.27614, 0.26575, 0.25729, 0.25228, 0.25202],\n",
    "        [0.37419, 0.35372, 0.33729, 0.32492, 0.31601, 0.30883, 0.30036, 0.29568],\n",
    "        [0.37498, 0.35847, 0.34475, 0.33399, 0.32715, 0.31943, 0.31098, 0.30506],\n",
    "        [0.35941, 0.34516, 0.33296, 0.32275, 0.31867, 0.30969, 0.30239, 0.29631],\n",
    "        [0.35521, 0.34242, 0.33154, 0.3219, 0.31948, 0.31096, 0.30424, 0.2984],\n",
    "        [0.35442, 0.34267, 0.33288, 0.32374, 0.32245, 0.31474, 0.30838, 0.30283],\n",
    "        [0.35384, 0.34286, 0.33386, 0.32507, 0.3246, 0.31745, 0.31135, 0.306],\n",
    "        [0.35338, 0.343, 0.33464, 0.32614, 0.3263, 0.31961, 0.31371, 0.30852],\n",
    "        [0.35301, 0.34312, 0.33526, 0.32698, 0.32766, 0.32132, 0.31588, 0.31052],\n",
    "        [0.35272, 0.34322, 0.33574, 0.32765, 0.32873, 0.32267, 0.31705, 0.31209],\n",
    "        [0.35246, 0.3433, 0.33617, 0.32822, 0.32965, 0.32383, 0.31831, 0.31344],\n",
    "        [0.35226, 0.34336, 0.33651, 0.32869, 0.3304, 0.32477, 0.31934, 0.31453],\n",
    "        [0.35207, 0.34342, 0.33681, 0.32911, 0.33106, 0.32561, 0.32025, 0.3155],\n",
    "        [0.35171, 0.34327, 0.33679, 0.32931, 0.3319, 0.32665, 0.32139, 0.31675],\n",
    "        [0.35128, 0.343, 0.33658, 0.32937, 0.33276, 0.32769, 0.32255, 0.31802],\n",
    "        [0.35086, 0.34274, 0.33637, 0.32943, 0.3336, 0.32872, 0.32368, 0.31927],\n",
    "        [0.35049, 0.34252, 0.33618, 0.32948, 0.33432, 0.32959, 0.32465, 0.32034],\n",
    "        [0.35016, 0.34321, 0.33602, 0.32953, 0.33498, 0.3304, 0.32554, 0.32132],\n",
    "        [0.34986, 0.34213, 0.33587, 0.32957, 0.33556, 0.3311, 0.32631, 0.32217],\n",
    "        [0.34959, 0.34196, 0.33573, 0.32961, 0.3361, 0.33176, 0.32704, 0.32296],\n",
    "        [0.34934, 0.34181, 0.33561, 0.32964, 0.33658, 0.33235, 0.32769, 0.32368],\n",
    "        [0.34912, 0.34167, 0.3355, 0.32967, 0.33701, 0.33288, 0.32827, 0.32432],\n",
    "        [0.34891, 0.34154, 0.33539, 0.3297, 0.33742, 0.33337, 0.32881, 0.32492]]"
   ]
  },
  {
   "cell_type": "code",
   "execution_count": 6,
   "metadata": {},
   "outputs": [],
   "source": [
    "def setup_helpers(engine, expiration_dates, strikes, data, ref_date, spot, yield_ts, dividend_ts):\n",
    "    heston_helpers = []\n",
    "    grid_data = []\n",
    "    for i, date in enumerate(expiration_dates):\n",
    "        for j, s in enumerate(strikes):\n",
    "            t = (date - ref_date)\n",
    "            p = ql.Period(t, ql.Days)\n",
    "            vols = data[i][j]\n",
    "            helper = ql.HestonModelHelper(p, calendar, spot, s, ql.QuoteHandle(ql.SimpleQuote(vols)), yield_ts, dividend_ts)\n",
    "            helper.setPricingEngine(engine)\n",
    "            heston_helpers.append(helper)\n",
    "            grid_data.append((date, s))\n",
    "    return heston_helpers, grid_data\n",
    "\n",
    "\n",
    "def cost_function_generator(model, helpers, norm=False):\n",
    "    def cost_function(params):\n",
    "        params_ = ql.Array(list(params))\n",
    "        model.setParams(params_)\n",
    "        error = [h.calibrationError() for h in helpers]\n",
    "        if norm:\n",
    "            return np.sqrt(np.sum(np.abs(error)))\n",
    "        else:\n",
    "            return error\n",
    "    return cost_function\n",
    "\n",
    "\n",
    "def calibration_report(helpers, grid_data, detailed=False):\n",
    "    avg = 0.0\n",
    "    if detailed:\n",
    "        print(\"%15s %25s %15s %15s %20s\" % (\"Strikes\", \"Expiry\", \"Market Value\", \"Model Value\", \"Relative Error (%)\"))\n",
    "        print(\"=\"*100)\n",
    "    for i, opt in enumerate(helpers):\n",
    "        err = (opt.modelValue() / opt.marketValue() - 1.0)\n",
    "        date, strike = grid_data[i]\n",
    "        if detailed:\n",
    "            print(\"%15.2f %25s %14.5% %15.5f %20.7f\" % (strike, str(date), opt.marketValue(), opt.modelValue(), 100*(opt.modelValue()/opt.marketValue()-1.0)))\n",
    "        avg += abs(err)\n",
    "    avg = avg*100.0/len(helpers)\n",
    "    if detailed:\n",
    "        print(\"-\"*100)\n",
    "    summary = \"Average Abs Error (%%) : %5.9f\" % (avg)\n",
    "    print(summary)\n",
    "    return avg\n",
    "\n",
    "\n",
    "def setup_model(_yield_ts, _dividend_ts, _spot, init_condition=(0.02, 0.2, 0.5, 0.1, 0.01)):\n",
    "    theta, kappa, sigma, rho, v0 = init_condition\n",
    "    process = ql.HestonProcess(_yield_ts, _dividend_ts, ql.QuoteHandle(ql.SimpleQuote(_spot)), v0, kappa, theta, sigma, rho)\n",
    "    model = ql.HestonModel(process)\n",
    "    engine = ql.AnalyticHestonEngine(model)\n",
    "    return model, engine\n",
    "\n",
    "\n",
    "summary = []"
   ]
  },
  {
   "cell_type": "code",
   "execution_count": 7,
   "metadata": {},
   "outputs": [],
   "source": [
    "model1, engine1 = setup_model(flat_ts, dividend_ts, spot, init_condition=(0.02, 0.2, 0.5, 0.1, 0.01))\n",
    "heston_helpers1, grid_data1 = setup_helpers(engine1, expiration_dates, strikes, data, calculation_date, spot, flat_ts, dividend_ts)\n",
    "initial_condition = list(model1.params())"
   ]
  },
  {
   "cell_type": "code",
   "execution_count": 8,
   "metadata": {},
   "outputs": [
    {
     "name": "stdout",
     "output_type": "stream",
     "text": [
      "theta = 0.125760, kappa = 7.911958, sigma = 1.887628, rho = -0.364933, v0 = 0.055399\nAverage Abs Error (%) : 3.013208440\nWall time: 2.14 s\n"
     ]
    }
   ],
   "source": [
    "%%time\n",
    "lm = ql.LevenbergMarquardt(1e-8, 1e-8, 1e-8)\n",
    "model1.calibrate(heston_helpers1, lm, ql.EndCriteria(500, 300, 1.0e-8, 1.0e-8, 1.0e-8))\n",
    "theta, kappa, sigma, rho, v0 = model1.params()\n",
    "print(\"theta = %f, kappa = %f, sigma = %f, rho = %f, v0 = %f\" % (theta, kappa, sigma, rho, v0))\n",
    "error = calibration_report(heston_helpers1, grid_data1)\n",
    "summary.append([\"QL LM1\", error] + list(model1.params()))"
   ]
  },
  {
   "cell_type": "code",
   "execution_count": 9,
   "metadata": {},
   "outputs": [],
   "source": [
    "model1, engine1 = setup_model(flat_ts, dividend_ts, spot, init_condition=(0.07, 0.5, 0.1, 0.1, 0.1))\n",
    "heston_helpers1, grid_data1 = setup_helpers(engine1, expiration_dates, strikes, data, calculation_date, spot, flat_ts, dividend_ts)\n",
    "initial_condition = list(model1.params())"
   ]
  },
  {
   "cell_type": "code",
   "execution_count": 10,
   "metadata": {},
   "outputs": [
    {
     "name": "stdout",
     "output_type": "stream",
     "text": [
      "theta = 0.084523, kappa = 0.000000, sigma = 0.132219, rho = -0.514027, v0 = 0.099928\nAverage Abs Error (%) : 11.008826759\nWall time: 2.25 s\n"
     ]
    }
   ],
   "source": [
    "%%time\n",
    "lm = ql.LevenbergMarquardt(1e-8, 1e-8, 1e-8)\n",
    "model1.calibrate(heston_helpers1, lm, ql.EndCriteria(500, 300, 1.0e-8, 1.0e-8, 1.0e-8))\n",
    "theta, kappa, sigma, rho, v0 = model1.params()\n",
    "print(\"theta = %f, kappa = %f, sigma = %f, rho = %f, v0 = %f\" % (theta, kappa, sigma, rho, v0))\n",
    "error = calibration_report(heston_helpers1, grid_data1)\n",
    "summary.append([\"QL LM2\", error] + list(model1.params()))"
   ]
  },
  {
   "cell_type": "code",
   "execution_count": 11,
   "metadata": {},
   "outputs": [],
   "source": [
    "model2, engine2 = setup_model(flat_ts, dividend_ts, spot, init_condition=(0.02, 0.2, 0.5, 0.1, 0.01))\n",
    "heston_helpers2, grid_data2 = setup_helpers(engine2, expiration_dates, strikes, data, calculation_date, spot, flat_ts, dividend_ts)\n",
    "initial_condition = list(model2.params())"
   ]
  },
  {
   "cell_type": "code",
   "execution_count": 12,
   "metadata": {},
   "outputs": [
    {
     "name": "stdout",
     "output_type": "stream",
     "text": [
      "theta = 0.125759, kappa = 7.912874, sigma = 1.887747, rho = -0.364933, v0 = 0.055396\nAverage Abs Error (%) : 3.013195727\nWall time: 2.05 s\n"
     ]
    }
   ],
   "source": [
    "%%time\n",
    "cost_function = cost_function_generator(model2, heston_helpers2)\n",
    "sol = root(cost_function, initial_condition, method='lm')\n",
    "theta, kappa, sigma, rho, v0 = model2.params()\n",
    "print(\"theta = %f, kappa = %f, sigma = %f, rho = %f, v0 = %f\" % (theta, kappa, sigma, rho, v0))\n",
    "error = calibration_report(heston_helpers2, grid_data2)\n",
    "summary.append([\"SciPy LM1\", error] + list(model2.params()))"
   ]
  },
  {
   "cell_type": "code",
   "execution_count": 13,
   "metadata": {},
   "outputs": [],
   "source": [
    "model2, engine2 = setup_model(flat_ts, dividend_ts, spot, init_condition=(0.07, 0.5, 0.1, 0.1, 0.1))\n",
    "heston_helpers2, grid_data2 = setup_helpers(engine2, expiration_dates, strikes, data, calculation_date, spot, flat_ts, dividend_ts)\n",
    "initial_condition = list(model2.params())"
   ]
  },
  {
   "cell_type": "code",
   "execution_count": 14,
   "metadata": {},
   "outputs": [
    {
     "name": "stdout",
     "output_type": "stream",
     "text": [
      "theta = -42.044169, kappa = -0.000907, sigma = 0.252942, rho = -1.001501, v0 = 0.088258\nAverage Abs Error (%) : 5.744317043\nWall time: 22.9 s\n"
     ]
    }
   ],
   "source": [
    "%%time\n",
    "cost_function = cost_function_generator(model2, heston_helpers2)\n",
    "sol = root(cost_function, initial_condition, method='lm')\n",
    "theta, kappa, sigma, rho, v0 = model2.params()\n",
    "print(\"theta = %f, kappa = %f, sigma = %f, rho = %f, v0 = %f\" % (theta, kappa, sigma, rho, v0))\n",
    "error = calibration_report(heston_helpers2, grid_data2)\n",
    "summary.append([\"SciPy LM2\", error] + list(model2.params()))"
   ]
  },
  {
   "cell_type": "code",
   "execution_count": 15,
   "metadata": {},
   "outputs": [],
   "source": [
    "from scipy.optimize import least_squares"
   ]
  },
  {
   "cell_type": "code",
   "execution_count": 20,
   "metadata": {},
   "outputs": [],
   "source": [
    "model3, engine3 = setup_model(flat_ts, dividend_ts, spot, init_condition=(0.02, 0.2, 0.2, 0.1, 0.01))\n",
    "heston_helpers3, grid_data3 = setup_helpers(engine3, expiration_dates, strikes, data, calculation_date, spot, flat_ts, dividend_ts)\n",
    "initial_condition = list(model3.params())"
   ]
  },
  {
   "cell_type": "code",
   "execution_count": 21,
   "metadata": {},
   "outputs": [
    {
     "name": "stdout",
     "output_type": "stream",
     "text": [
      "theta = 0.125760, kappa = 7.912208, sigma = 1.887663, rho = -0.364932, v0 = 0.055404\nAverage Abs Error (%) : 3.013154084\nWall time: 4.56 s\n"
     ]
    }
   ],
   "source": [
    "%%time\n",
    "cost_function = cost_function_generator(model3, heston_helpers3)\n",
    "sol = least_squares(cost_function, initial_condition, method='lm')\n",
    "theta, kappa, sigma, rho, v0 = model3.params()\n",
    "print(\"theta = %f, kappa = %f, sigma = %f, rho = %f, v0 = %f\" % (theta, kappa, sigma, rho, v0))\n",
    "error = calibration_report(heston_helpers3, grid_data3)\n",
    "summary.append([\"SciPy LS1\", error] + list(model3.params()))"
   ]
  },
  {
   "cell_type": "code",
   "execution_count": 22,
   "metadata": {},
   "outputs": [],
   "source": [
    "model3, engine3 = setup_model(flat_ts, dividend_ts, spot, init_condition=(0.07, 0.5, 0.1, 0.1, 0.1))\n",
    "heston_helpers3, grid_data3 = setup_helpers(engine3, expiration_dates, strikes, data, calculation_date, spot, flat_ts, dividend_ts)\n",
    "initial_condition = list(model3.params())"
   ]
  },
  {
   "cell_type": "code",
   "execution_count": 23,
   "metadata": {},
   "outputs": [
    {
     "name": "stdout",
     "output_type": "stream",
     "text": [
      "theta = 1.116878, kappa = 0.000042, sigma = -0.000696, rho = -0.000084, v0 = 0.587810\nAverage Abs Error (%) : 5.098700384\nWall time: 9.08 s\n"
     ]
    }
   ],
   "source": [
    "%%time\n",
    "cost_function = cost_function_generator(model3, heston_helpers3)\n",
    "sol = least_squares(cost_function, initial_condition, method='lm')\n",
    "theta, kappa, sigma, rho, v0 = model3.params()\n",
    "print(\"theta = %f, kappa = %f, sigma = %f, rho = %f, v0 = %f\" % (theta, kappa, sigma, rho, v0))\n",
    "error = calibration_report(heston_helpers3, grid_data3)\n",
    "summary.append([\"SciPy LS2\", error] + list(model3.params()))"
   ]
  },
  {
   "cell_type": "code",
   "execution_count": 26,
   "metadata": {},
   "outputs": [],
   "source": [
    "from scipy.optimize import differential_evolution"
   ]
  },
  {
   "cell_type": "code",
   "execution_count": 27,
   "metadata": {},
   "outputs": [],
   "source": [
    "model4, engine4 = setup_model(flat_ts, dividend_ts, spot, init_condition=(0.02, 0.2, 0.2, 0.1, 0.01))\n",
    "heston_helpers4, grid_data4 = setup_helpers(engine4, expiration_dates, strikes, data, calculation_date, spot, flat_ts, dividend_ts)\n",
    "initial_condition = list(model4.params())\n",
    "bounds = [(0, 1), (0.01, 15), (0.01, 1.0), (-1, 1), (0, 1.0)]"
   ]
  },
  {
   "cell_type": "code",
   "execution_count": 28,
   "metadata": {},
   "outputs": [
    {
     "name": "stdout",
     "output_type": "stream",
     "text": [
      "theta = 0.122870, kappa = 5.109367, sigma = 0.945947, rho = -0.567321, v0 = 0.077834\nAverage Abs Error (%) : 2.869746009\nWall time: 1min 12s\n"
     ]
    }
   ],
   "source": [
    "%%time\n",
    "cost_function = cost_function_generator(model4, heston_helpers4, norm=True)\n",
    "sol = differential_evolution(cost_function, bounds, maxiter=100)\n",
    "theta, kappa, sigma, rho, v0 = model4.params()\n",
    "print(\"theta = %f, kappa = %f, sigma = %f, rho = %f, v0 = %f\" % (theta, kappa, sigma, rho, v0))\n",
    "error = calibration_report(heston_helpers4, grid_data4)\n",
    "summary.append([\"SciPy DE1\", error] + list(model4.params()))"
   ]
  },
  {
   "cell_type": "code",
   "execution_count": 29,
   "metadata": {},
   "outputs": [],
   "source": [
    "model4, engine4 = setup_model(flat_ts, dividend_ts, spot)\n",
    "heston_helpers4, grid_data4 = setup_helpers(engine4, expiration_dates, strikes, data, calculation_date, spot, flat_ts, dividend_ts)\n",
    "initial_condition = list(model4.params())\n",
    "bounds = [(0, 1), (0.01, 15), (0.01, 1.0), (-1, 1), (0, 1.0)]"
   ]
  },
  {
   "cell_type": "code",
   "execution_count": 30,
   "metadata": {},
   "outputs": [
    {
     "name": "stdout",
     "output_type": "stream",
     "text": [
      "theta = 0.122717, kappa = 4.541489, sigma = 0.747434, rho = -0.675509, v0 = 0.079010\nAverage Abs Error (%) : 2.881507738\nWall time: 1min\n"
     ]
    }
   ],
   "source": [
    "%%time\n",
    "cost_function = cost_function_generator(model4, heston_helpers4, norm=True)\n",
    "sol = differential_evolution(cost_function, bounds, maxiter=100)\n",
    "theta, kappa, sigma, rho, v0 = model4.params()\n",
    "print(\"theta = %f, kappa = %f, sigma = %f, rho = %f, v0 = %f\" % (theta, kappa, sigma, rho, v0))\n",
    "error = calibration_report(heston_helpers4, grid_data4)\n",
    "summary.append([\"SciPy DE2\", error] + list(model4.params()))"
   ]
  },
  {
   "cell_type": "code",
   "execution_count": 31,
   "metadata": {},
   "outputs": [],
   "source": [
    "from scipy.optimize import basinhopping"
   ]
  },
  {
   "cell_type": "code",
   "execution_count": 32,
   "metadata": {},
   "outputs": [],
   "source": [
    "class MyBounds(object):\n",
    "    def __init__(self, xmin=[0., 0.01, 0.01, -1, 0], xmax=[1, 15, 1, 1, 1.0]):\n",
    "        self.xmax = np.array(xmax)\n",
    "        self.xmin = np.array(xmin)\n",
    "        \n",
    "    def __call__(self, **kwargs):\n",
    "        x = kwargs[\"x_new\"]\n",
    "        tmax = bool(np.all(x <= self.xmax))\n",
    "        tmin = bool(np.all(x >= self.xmin))\n",
    "        return tmax and tmin\n",
    "    \n",
    "\n",
    "bounds = [(0, 1), (0.01, 15), (0.01, 1.0), (-1, 1), (0, 1.0)]"
   ]
  },
  {
   "cell_type": "code",
   "execution_count": 38,
   "metadata": {},
   "outputs": [],
   "source": [
    "model5, engine5 = setup_model(flat_ts, dividend_ts, spot, init_condition=(0.02, 0.2, 0.5, 0.1, 0.01))\n",
    "heston_helpers5, grid_data5 = setup_helpers(engine5, expiration_dates, strikes, data, calculation_date, spot, flat_ts, dividend_ts)\n",
    "initial_condition = list(model5.params())"
   ]
  },
  {
   "cell_type": "code",
   "execution_count": 39,
   "metadata": {},
   "outputs": [
    {
     "name": "stdout",
     "output_type": "stream",
     "text": [
      "theta = 0.024622, kappa = 0.189668, sigma = 0.501535, rho = 0.093245, v0 = 0.016846\nAverage Abs Error (%) : 82.692481038\nWall time: 807 ms\n"
     ]
    }
   ],
   "source": [
    "%%time\n",
    "mybound = MyBounds()\n",
    "minimizer_kwargs = {\"method\": \"L-BFGS-B\", \"bounds\": bounds}\n",
    "cost_function = cost_function_generator(model5, heston_helpers4, norm=True)\n",
    "sol = basinhopping(cost_function, initial_condition, niter=5, minimizer_kwargs=minimizer_kwargs, stepsize=0.005, accept_test=mybound, interval=10)\n",
    "theta, kappa, sigma, rho, v0 = model5.params()\n",
    "print(\"theta = %f, kappa = %f, sigma = %f, rho = %f, v0 = %f\" % (theta, kappa, sigma, rho, v0))\n",
    "error = calibration_report(heston_helpers5, grid_data5)\n",
    "summary.append([\"SciPy BH1\", error] + list(model5.params()))"
   ]
  },
  {
   "cell_type": "code",
   "execution_count": 40,
   "metadata": {},
   "outputs": [],
   "source": [
    "model5, engine5 = setup_model(flat_ts, dividend_ts, spot, init_condition=(0.07, 0.5, 0.1, 0.1, 0.1))\n",
    "heston_helpers5, grid_data5 = setup_helpers(engine5, expiration_dates, strikes, data, calculation_date, spot, flat_ts, dividend_ts)\n",
    "initial_condition = list(model5.params())"
   ]
  },
  {
   "cell_type": "code",
   "execution_count": 41,
   "metadata": {},
   "outputs": [
    {
     "name": "stdout",
     "output_type": "stream",
     "text": [
      "theta = 0.072327, kappa = 0.506534, sigma = 0.095887, rho = 0.090253, v0 = 0.101320\nAverage Abs Error (%) : 14.807595395\nWall time: 763 ms\n"
     ]
    }
   ],
   "source": [
    "%%time\n",
    "mybound = MyBounds()\n",
    "minimizer_kwargs = {\"method\": \"L-BFGS-B\", \"bounds\": bounds}\n",
    "cost_function = cost_function_generator(model5, heston_helpers4, norm=True)\n",
    "sol = basinhopping(cost_function, initial_condition, niter=5, minimizer_kwargs=minimizer_kwargs, stepsize=0.005, accept_test=mybound, interval=10)\n",
    "theta, kappa, sigma, rho, v0 = model5.params()\n",
    "print(\"theta = %f, kappa = %f, sigma = %f, rho = %f, v0 = %f\" % (theta, kappa, sigma, rho, v0))\n",
    "error = calibration_report(heston_helpers5, grid_data5)\n",
    "summary.append([\"SciPy BH2\", error] + list(model5.params()))"
   ]
  },
  {
   "cell_type": "code",
   "execution_count": 42,
   "metadata": {},
   "outputs": [
    {
     "data": {
      "text/html": [
       "<div>\n",
       "<style>\n",
       "    .dataframe thead tr:only-child th {\n",
       "        text-align: right;\n",
       "    }\n",
       "\n",
       "    .dataframe thead th {\n",
       "        text-align: left;\n",
       "    }\n",
       "\n",
       "    .dataframe tbody tr th {\n",
       "        vertical-align: top;\n",
       "    }\n",
       "</style>\n",
       "<table border=\"1\" class=\"dataframe\">\n",
       "  <thead>\n",
       "    <tr style=\"text-align: right;\">\n",
       "      <th></th>\n",
       "      <th>Name</th>\n",
       "      <th>Avg Abs Error</th>\n",
       "      <th>Theta</th>\n",
       "      <th>Kappa</th>\n",
       "      <th>Sigma</th>\n",
       "      <th>Rho</th>\n",
       "      <th>V0</th>\n",
       "    </tr>\n",
       "  </thead>\n",
       "  <tbody>\n",
       "    <tr>\n",
       "      <th></th>\n",
       "      <td>QL LM1</td>\n",
       "      <td>3.013208</td>\n",
       "      <td>0.125760</td>\n",
       "      <td>7.911958e+00</td>\n",
       "      <td>1.887628</td>\n",
       "      <td>-0.364933</td>\n",
       "      <td>0.055399</td>\n",
       "    </tr>\n",
       "    <tr>\n",
       "      <th></th>\n",
       "      <td>QL LM1</td>\n",
       "      <td>11.008827</td>\n",
       "      <td>0.084523</td>\n",
       "      <td>1.702329e-08</td>\n",
       "      <td>0.132219</td>\n",
       "      <td>-0.514027</td>\n",
       "      <td>0.099928</td>\n",
       "    </tr>\n",
       "    <tr>\n",
       "      <th></th>\n",
       "      <td>SciPy LM1</td>\n",
       "      <td>3.013196</td>\n",
       "      <td>0.125759</td>\n",
       "      <td>7.912874e+00</td>\n",
       "      <td>1.887747</td>\n",
       "      <td>-0.364933</td>\n",
       "      <td>0.055396</td>\n",
       "    </tr>\n",
       "    <tr>\n",
       "      <th></th>\n",
       "      <td>SciPy LM2</td>\n",
       "      <td>5.744317</td>\n",
       "      <td>-42.044169</td>\n",
       "      <td>-9.067011e-04</td>\n",
       "      <td>0.252942</td>\n",
       "      <td>-1.001501</td>\n",
       "      <td>0.088258</td>\n",
       "    </tr>\n",
       "    <tr>\n",
       "      <th></th>\n",
       "      <td>SciPy LS1</td>\n",
       "      <td>3.013209</td>\n",
       "      <td>0.125760</td>\n",
       "      <td>7.912104e+00</td>\n",
       "      <td>1.887651</td>\n",
       "      <td>-0.364932</td>\n",
       "      <td>0.055399</td>\n",
       "    </tr>\n",
       "    <tr>\n",
       "      <th></th>\n",
       "      <td>SciPy LS2</td>\n",
       "      <td>5.744317</td>\n",
       "      <td>-42.044169</td>\n",
       "      <td>-9.067011e-04</td>\n",
       "      <td>0.252942</td>\n",
       "      <td>-1.001501</td>\n",
       "      <td>0.088258</td>\n",
       "    </tr>\n",
       "    <tr>\n",
       "      <th></th>\n",
       "      <td>SciPy LS1</td>\n",
       "      <td>3.013154</td>\n",
       "      <td>0.125760</td>\n",
       "      <td>7.912208e+00</td>\n",
       "      <td>1.887663</td>\n",
       "      <td>-0.364932</td>\n",
       "      <td>0.055404</td>\n",
       "    </tr>\n",
       "    <tr>\n",
       "      <th></th>\n",
       "      <td>SciPy LS2</td>\n",
       "      <td>5.098700</td>\n",
       "      <td>1.116878</td>\n",
       "      <td>4.171596e-05</td>\n",
       "      <td>-0.000696</td>\n",
       "      <td>-0.000084</td>\n",
       "      <td>0.587810</td>\n",
       "    </tr>\n",
       "    <tr>\n",
       "      <th></th>\n",
       "      <td>SciPy DE1</td>\n",
       "      <td>2.869746</td>\n",
       "      <td>0.122870</td>\n",
       "      <td>5.109367e+00</td>\n",
       "      <td>0.945947</td>\n",
       "      <td>-0.567321</td>\n",
       "      <td>0.077834</td>\n",
       "    </tr>\n",
       "    <tr>\n",
       "      <th></th>\n",
       "      <td>SciPy DE2</td>\n",
       "      <td>2.881508</td>\n",
       "      <td>0.122717</td>\n",
       "      <td>4.541489e+00</td>\n",
       "      <td>0.747434</td>\n",
       "      <td>-0.675509</td>\n",
       "      <td>0.079010</td>\n",
       "    </tr>\n",
       "    <tr>\n",
       "      <th></th>\n",
       "      <td>SciPy BH1</td>\n",
       "      <td>88.767800</td>\n",
       "      <td>0.020000</td>\n",
       "      <td>2.000000e-01</td>\n",
       "      <td>0.500000</td>\n",
       "      <td>0.100000</td>\n",
       "      <td>0.010000</td>\n",
       "    </tr>\n",
       "    <tr>\n",
       "      <th></th>\n",
       "      <td>SciPy BH2</td>\n",
       "      <td>15.572759</td>\n",
       "      <td>0.070000</td>\n",
       "      <td>5.000000e-01</td>\n",
       "      <td>0.100000</td>\n",
       "      <td>0.100000</td>\n",
       "      <td>0.100000</td>\n",
       "    </tr>\n",
       "    <tr>\n",
       "      <th></th>\n",
       "      <td>SciPy BH1</td>\n",
       "      <td>82.692481</td>\n",
       "      <td>0.024622</td>\n",
       "      <td>1.896678e-01</td>\n",
       "      <td>0.501535</td>\n",
       "      <td>0.093245</td>\n",
       "      <td>0.016846</td>\n",
       "    </tr>\n",
       "    <tr>\n",
       "      <th></th>\n",
       "      <td>SciPy BH2</td>\n",
       "      <td>14.807595</td>\n",
       "      <td>0.072327</td>\n",
       "      <td>5.065344e-01</td>\n",
       "      <td>0.095887</td>\n",
       "      <td>0.090253</td>\n",
       "      <td>0.101320</td>\n",
       "    </tr>\n",
       "  </tbody>\n",
       "</table>\n",
       "</div>"
      ],
      "text/plain": [
       "<div>\n",
       "<style>\n",
       "    .dataframe thead tr:only-child th {\n",
       "        text-align: right;\n",
       "    }\n",
       "\n",
       "    .dataframe thead th {\n",
       "        text-align: left;\n",
       "    }\n",
       "\n",
       "    .dataframe tbody tr th {\n",
       "        vertical-align: top;\n",
       "    }\n",
       "</style>\n",
       "<table border=\"1\" class=\"dataframe\">\n",
       "  <thead>\n",
       "    <tr style=\"text-align: right;\">\n",
       "      <th></th>\n",
       "      <th>Name</th>\n",
       "      <th>Avg Abs Error</th>\n",
       "      <th>Theta</th>\n",
       "      <th>Kappa</th>\n",
       "      <th>Sigma</th>\n",
       "      <th>Rho</th>\n",
       "      <th>V0</th>\n",
       "    </tr>\n",
       "  </thead>\n",
       "  <tbody>\n",
       "    <tr>\n",
       "      <th></th>\n",
       "      <td>QL LM1</td>\n",
       "      <td>3.013208</td>\n",
       "      <td>0.125760</td>\n",
       "      <td>7.911958e+00</td>\n",
       "      <td>1.887628</td>\n",
       "      <td>-0.364933</td>\n",
       "      <td>0.055399</td>\n",
       "    </tr>\n",
       "    <tr>\n",
       "      <th></th>\n",
       "      <td>QL LM1</td>\n",
       "      <td>11.008827</td>\n",
       "      <td>0.084523</td>\n",
       "      <td>1.702329e-08</td>\n",
       "      <td>0.132219</td>\n",
       "      <td>-0.514027</td>\n",
       "      <td>0.099928</td>\n",
       "    </tr>\n",
       "    <tr>\n",
       "      <th></th>\n",
       "      <td>SciPy LM1</td>\n",
       "      <td>3.013196</td>\n",
       "      <td>0.125759</td>\n",
       "      <td>7.912874e+00</td>\n",
       "      <td>1.887747</td>\n",
       "      <td>-0.364933</td>\n",
       "      <td>0.055396</td>\n",
       "    </tr>\n",
       "    <tr>\n",
       "      <th></th>\n",
       "      <td>SciPy LM2</td>\n",
       "      <td>5.744317</td>\n",
       "      <td>-42.044169</td>\n",
       "      <td>-9.067011e-04</td>\n",
       "      <td>0.252942</td>\n",
       "      <td>-1.001501</td>\n",
       "      <td>0.088258</td>\n",
       "    </tr>\n",
       "    <tr>\n",
       "      <th></th>\n",
       "      <td>SciPy LS1</td>\n",
       "      <td>3.013209</td>\n",
       "      <td>0.125760</td>\n",
       "      <td>7.912104e+00</td>\n",
       "      <td>1.887651</td>\n",
       "      <td>-0.364932</td>\n",
       "      <td>0.055399</td>\n",
       "    </tr>\n",
       "    <tr>\n",
       "      <th></th>\n",
       "      <td>SciPy LS2</td>\n",
       "      <td>5.744317</td>\n",
       "      <td>-42.044169</td>\n",
       "      <td>-9.067011e-04</td>\n",
       "      <td>0.252942</td>\n",
       "      <td>-1.001501</td>\n",
       "      <td>0.088258</td>\n",
       "    </tr>\n",
       "    <tr>\n",
       "      <th></th>\n",
       "      <td>SciPy LS1</td>\n",
       "      <td>3.013154</td>\n",
       "      <td>0.125760</td>\n",
       "      <td>7.912208e+00</td>\n",
       "      <td>1.887663</td>\n",
       "      <td>-0.364932</td>\n",
       "      <td>0.055404</td>\n",
       "    </tr>\n",
       "    <tr>\n",
       "      <th></th>\n",
       "      <td>SciPy LS2</td>\n",
       "      <td>5.098700</td>\n",
       "      <td>1.116878</td>\n",
       "      <td>4.171596e-05</td>\n",
       "      <td>-0.000696</td>\n",
       "      <td>-0.000084</td>\n",
       "      <td>0.587810</td>\n",
       "    </tr>\n",
       "    <tr>\n",
       "      <th></th>\n",
       "      <td>SciPy DE1</td>\n",
       "      <td>2.869746</td>\n",
       "      <td>0.122870</td>\n",
       "      <td>5.109367e+00</td>\n",
       "      <td>0.945947</td>\n",
       "      <td>-0.567321</td>\n",
       "      <td>0.077834</td>\n",
       "    </tr>\n",
       "    <tr>\n",
       "      <th></th>\n",
       "      <td>SciPy DE2</td>\n",
       "      <td>2.881508</td>\n",
       "      <td>0.122717</td>\n",
       "      <td>4.541489e+00</td>\n",
       "      <td>0.747434</td>\n",
       "      <td>-0.675509</td>\n",
       "      <td>0.079010</td>\n",
       "    </tr>\n",
       "    <tr>\n",
       "      <th></th>\n",
       "      <td>SciPy BH1</td>\n",
       "      <td>88.767800</td>\n",
       "      <td>0.020000</td>\n",
       "      <td>2.000000e-01</td>\n",
       "      <td>0.500000</td>\n",
       "      <td>0.100000</td>\n",
       "      <td>0.010000</td>\n",
       "    </tr>\n",
       "    <tr>\n",
       "      <th></th>\n",
       "      <td>SciPy BH2</td>\n",
       "      <td>15.572759</td>\n",
       "      <td>0.070000</td>\n",
       "      <td>5.000000e-01</td>\n",
       "      <td>0.100000</td>\n",
       "      <td>0.100000</td>\n",
       "      <td>0.100000</td>\n",
       "    </tr>\n",
       "    <tr>\n",
       "      <th></th>\n",
       "      <td>SciPy BH1</td>\n",
       "      <td>82.692481</td>\n",
       "      <td>0.024622</td>\n",
       "      <td>1.896678e-01</td>\n",
       "      <td>0.501535</td>\n",
       "      <td>0.093245</td>\n",
       "      <td>0.016846</td>\n",
       "    </tr>\n",
       "    <tr>\n",
       "      <th></th>\n",
       "      <td>SciPy BH2</td>\n",
       "      <td>14.807595</td>\n",
       "      <td>0.072327</td>\n",
       "      <td>5.065344e-01</td>\n",
       "      <td>0.095887</td>\n",
       "      <td>0.090253</td>\n",
       "      <td>0.101320</td>\n",
       "    </tr>\n",
       "  </tbody>\n",
       "</table>\n",
       "</div>"
      ]
     },
     "execution_count": 42,
     "metadata": {},
     "output_type": "execute_result"
    }
   ],
   "source": [
    "import pandas as pd\n",
    "pd.DataFrame(summary, columns=[\"Name\", \"Avg Abs Error\", \"Theta\", \"Kappa\", \"Sigma\", \"Rho\", \"V0\"], index=['']*len(summary))"
   ]
  },
  {
   "cell_type": "code",
   "execution_count": null,
   "metadata": {},
   "outputs": [],
   "source": []
  }
 ],
 "metadata": {
  "kernelspec": {
   "display_name": "Python 2",
   "language": "python",
   "name": "python2"
  },
  "language_info": {
   "codemirror_mode": {
    "name": "ipython",
    "version": 2
   },
   "file_extension": ".py",
   "mimetype": "text/x-python",
   "name": "python",
   "nbconvert_exporter": "python",
   "pygments_lexer": "ipython2",
   "version": "2.7.6"
  }
 },
 "nbformat": 4,
 "nbformat_minor": 0
}
