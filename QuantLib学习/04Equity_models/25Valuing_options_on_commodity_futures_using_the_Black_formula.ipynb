{
 "cells": [
  {
   "cell_type": "code",
   "execution_count": 1,
   "metadata": {
    "collapsed": true
   },
   "outputs": [],
   "source": [
    "import QuantLib as ql\n",
    "import math"
   ]
  },
  {
   "cell_type": "code",
   "execution_count": 2,
   "metadata": {},
   "outputs": [],
   "source": [
    "calendar = ql.UnitedStates()\n",
    "business_convention = ql.ModifiedFollowing\n",
    "settlement_days = 0\n",
    "day_count = ql.ActualActual()"
   ]
  },
  {
   "cell_type": "code",
   "execution_count": 3,
   "metadata": {},
   "outputs": [],
   "source": [
    "interest_rate = 0.00105\n",
    "calc_date = ql.Date(1, 12, 2015)\n",
    "yield_curve = ql.FlatForward(calc_date, interest_rate, day_count, ql.Compounded, ql.Continuous)"
   ]
  },
  {
   "cell_type": "code",
   "execution_count": 4,
   "metadata": {},
   "outputs": [],
   "source": [
    "ql.Settings.instance().evaluationDate = calc_date\n",
    "option_maturity_date = ql.Date(24, 12, 2015)\n",
    "strike = 119\n",
    "spot = 126.953\n",
    "volatility = 11.567/100.\n",
    "flavor = ql.Option.Call\n",
    "\n",
    "discount = yield_curve.discount(option_maturity_date)\n",
    "strikepayoff = ql.PlainVanillaPayoff(flavor, strike)\n",
    "T = yield_curve.dayCounter().yearFraction(calc_date, option_maturity_date)\n",
    "stddev = volatility*math.sqrt(T)\n",
    "\n",
    "black = ql.BlackCalculator(strikepayoff, spot, stddev, discount)"
   ]
  },
  {
   "cell_type": "code",
   "execution_count": 8,
   "metadata": {},
   "outputs": [
    {
     "name": "stdout",
     "output_type": "stream",
     "text": [
      "Option Price        : 7.9686\nDelta               : 0.9875\nGamma               : 0.0088\nTheta               : -0.9356\nVega                : 1.0285\nRho                 : 7.3974\n"
     ]
    }
   ],
   "source": [
    "print(\"%-20s: %4.4f\" % (\"Option Price\", black.value()))\n",
    "print(\"%-20s: %4.4f\" % (\"Delta\", black.delta(spot)))\n",
    "print(\"%-20s: %4.4f\" % (\"Gamma\", black.gamma(spot)))\n",
    "print(\"%-20s: %4.4f\" % (\"Theta\", black.theta(spot, T)))\n",
    "print(\"%-20s: %4.4f\" % (\"Vega\", black.vega(T)))\n",
    "print(\"%-20s: %4.4f\" % (\"Rho\", black.rho(T)))"
   ]
  },
  {
   "cell_type": "code",
   "execution_count": 9,
   "metadata": {},
   "outputs": [],
   "source": [
    "interest_rate = 0.0015\n",
    "calc_date = ql.Date(23, 9, 2015)\n",
    "yield_curve = ql.FlatForward(calc_date, interest_rate, day_count, ql.Compounded, ql.Continuous)"
   ]
  },
  {
   "cell_type": "code",
   "execution_count": 10,
   "metadata": {},
   "outputs": [],
   "source": [
    "ql.Settings.instance().evaluationDate = calc_date\n",
    "T = 96.12 / 365.\n",
    "\n",
    "strike = 3.5\n",
    "spot = 2.919\n",
    "volatility = 0.4251\n",
    "flavor = ql.Option.Call\n",
    "\n",
    "discount = yield_curve.discount(T)\n",
    "strikepayoff = ql.PlainVanillaPayoff(flavor, strike)\n",
    "stddev = volatility*math.sqrt(T)\n",
    "\n",
    "black = ql.BlackCalculator(strikepayoff, spot, stddev, discount)"
   ]
  },
  {
   "cell_type": "code",
   "execution_count": 11,
   "metadata": {},
   "outputs": [
    {
     "name": "stdout",
     "output_type": "stream",
     "text": [
      "Option Price        : 0.0789\nDelta               : 0.2347\nGamma               : 0.4822\nTheta               : -0.3711\nVega                : 0.4600\nRho                 : 0.1597\n"
     ]
    }
   ],
   "source": [
    "print(\"%-20s: %4.4f\" % (\"Option Price\", black.value()))\n",
    "print(\"%-20s: %4.4f\" % (\"Delta\", black.delta(spot)))\n",
    "print(\"%-20s: %4.4f\" % (\"Gamma\", black.gamma(spot)))\n",
    "print(\"%-20s: %4.4f\" % (\"Theta\", black.theta(spot, T)))\n",
    "print(\"%-20s: %4.4f\" % (\"Vega\", black.vega(T)))\n",
    "print(\"%-20s: %4.4f\" % (\"Rho\", black.rho(T)))"
   ]
  },
  {
   "cell_type": "code",
   "execution_count": null,
   "metadata": {},
   "outputs": [],
   "source": []
  }
 ],
 "metadata": {
  "kernelspec": {
   "display_name": "Python 2",
   "language": "python",
   "name": "python2"
  },
  "language_info": {
   "codemirror_mode": {
    "name": "ipython",
    "version": 2
   },
   "file_extension": ".py",
   "mimetype": "text/x-python",
   "name": "python",
   "nbconvert_exporter": "python",
   "pygments_lexer": "ipython2",
   "version": "2.7.6"
  }
 },
 "nbformat": 4,
 "nbformat_minor": 0
}
