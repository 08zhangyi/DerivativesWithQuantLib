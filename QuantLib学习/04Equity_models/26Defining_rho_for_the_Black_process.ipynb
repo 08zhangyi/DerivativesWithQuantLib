{
 "cells": [
  {
   "cell_type": "code",
   "execution_count": 1,
   "metadata": {
    "collapsed": true
   },
   "outputs": [],
   "source": [
    "import QuantLib as ql"
   ]
  },
  {
   "cell_type": "code",
   "execution_count": 2,
   "metadata": {},
   "outputs": [],
   "source": [
    "today = ql.Date(24, 12, 2016)\n",
    "ql.Settings.instance().evaluationDate = today"
   ]
  },
  {
   "cell_type": "code",
   "execution_count": 3,
   "metadata": {},
   "outputs": [],
   "source": [
    "u = ql.SimpleQuote(100.0)\n",
    "r = ql.SimpleQuote(0.01)\n",
    "sigma = ql.SimpleQuote(0.20)\n",
    "\n",
    "risk_free_curve = ql.FlatForward(today, ql.QuoteHandle(r), ql.Actual360())\n",
    "volatility = ql.BlackConstantVol(today, ql.TARGET(), ql.QuoteHandle(sigma), ql.Actual360())"
   ]
  },
  {
   "cell_type": "code",
   "execution_count": 4,
   "metadata": {},
   "outputs": [
    {
     "name": "stdout",
     "output_type": "stream",
     "text": [
      "0.000000 % Actual/365 (Fixed) continuous compounding\n"
     ]
    }
   ],
   "source": [
    "process_1 = ql.BlackScholesProcess(ql.QuoteHandle(u), ql.YieldTermStructureHandle(risk_free_curve), ql.BlackVolTermStructureHandle(volatility))\n",
    "print(process_1.dividendYield().zeroRate(1.0, ql.Continuous))"
   ]
  },
  {
   "cell_type": "code",
   "execution_count": 5,
   "metadata": {},
   "outputs": [
    {
     "name": "stdout",
     "output_type": "stream",
     "text": [
      "1.000000 % Actual/360 continuous compounding\n1.000000 % Actual/360 continuous compounding\n"
     ]
    }
   ],
   "source": [
    "process_2 = ql.BlackProcess(ql.QuoteHandle(u), ql.YieldTermStructureHandle(risk_free_curve), ql.BlackVolTermStructureHandle(volatility))\n",
    "print(process_2.riskFreeRate().zeroRate(1.0, ql.Continuous))\n",
    "print(process_2.dividendYield().zeroRate(1.0, ql.Continuous))"
   ]
  },
  {
   "cell_type": "code",
   "execution_count": 6,
   "metadata": {},
   "outputs": [
    {
     "name": "stdout",
     "output_type": "stream",
     "text": [
      "4.337597216336533\n"
     ]
    }
   ],
   "source": [
    "option_1 = ql.EuropeanOption(ql.PlainVanillaPayoff(ql.Option.Call, 100.0), ql.EuropeanExercise(today+100))\n",
    "option_1.setPricingEngine(ql.AnalyticEuropeanEngine(process_1))\n",
    "print(option_1.NPV())"
   ]
  },
  {
   "cell_type": "code",
   "execution_count": 7,
   "metadata": {},
   "outputs": [
    {
     "name": "stdout",
     "output_type": "stream",
     "text": [
      "4.191615257389808\n"
     ]
    }
   ],
   "source": [
    "option_2 = ql.EuropeanOption(ql.PlainVanillaPayoff(ql.Option.Call, 100.0), ql.EuropeanExercise(today+100))\n",
    "option_2.setPricingEngine(ql.AnalyticEuropeanEngine(process_2))\n",
    "print(option_2.NPV())"
   ]
  },
  {
   "cell_type": "code",
   "execution_count": 8,
   "metadata": {},
   "outputs": [],
   "source": [
    "def greek(option, quote, dx):\n",
    "    x0 = quote.value()\n",
    "    quote.setValue(x0+dx)\n",
    "    P_u = option.NPV()\n",
    "    quote.setValue(x0-dx)\n",
    "    P_d = option.NPV()\n",
    "    quote.setValue(x0)\n",
    "    return (P_u-P_d)/(2*dx)"
   ]
  },
  {
   "cell_type": "code",
   "execution_count": 9,
   "metadata": {},
   "outputs": [
    {
     "name": "stdout",
     "output_type": "stream",
     "text": [
      "0.5315063340142601\n0.531506323010289\n"
     ]
    }
   ],
   "source": [
    "print(option_1.delta())\n",
    "print(greek(option_1, u, 0.01))"
   ]
  },
  {
   "cell_type": "code",
   "execution_count": 10,
   "metadata": {},
   "outputs": [
    {
     "name": "stdout",
     "output_type": "stream",
     "text": [
      "0.5195711146255227\n0.5195711052036867\n"
     ]
    }
   ],
   "source": [
    "print(option_2.delta())\n",
    "print(greek(option_2, u, 0.01))"
   ]
  },
  {
   "cell_type": "code",
   "execution_count": 12,
   "metadata": {},
   "outputs": [
    {
     "name": "stdout",
     "output_type": "stream",
     "text": [
      "20.96050033373808\n20.960499909565833\n"
     ]
    }
   ],
   "source": [
    "print(option_1.vega())\n",
    "print(greek(option_1, sigma, 0.001))"
   ]
  },
  {
   "cell_type": "code",
   "execution_count": 13,
   "metadata": {},
   "outputs": [
    {
     "name": "stdout",
     "output_type": "stream",
     "text": [
      "20.938677847075486\n20.938677605407463\n"
     ]
    }
   ],
   "source": [
    "print(option_2.vega())\n",
    "print(greek(option_2, sigma, 0.001))"
   ]
  },
  {
   "cell_type": "code",
   "execution_count": 14,
   "metadata": {},
   "outputs": [
    {
     "name": "stdout",
     "output_type": "stream",
     "text": [
      "13.559176718080407\n13.55917453385036\n"
     ]
    }
   ],
   "source": [
    "print(option_1.rho())\n",
    "print(greek(option_1, r, 0.001))"
   ]
  },
  {
   "cell_type": "code",
   "execution_count": 15,
   "metadata": {},
   "outputs": [
    {
     "name": "stdout",
     "output_type": "stream",
     "text": [
      "13.268193390322908\n-1.1643375864700545\n"
     ]
    }
   ],
   "source": [
    "print(option_2.rho())\n",
    "print(greek(option_2, r, 0.001))"
   ]
  },
  {
   "cell_type": "code",
   "execution_count": 16,
   "metadata": {},
   "outputs": [
    {
     "name": "stdout",
     "output_type": "stream",
     "text": [
      "-1.1643375714971693\n-1.1643375864700545\n"
     ]
    }
   ],
   "source": [
    "print(option_2.rho() + option_2.dividendRho())\n",
    "print(greek(option_2, r, 0.001))"
   ]
  },
  {
   "cell_type": "code",
   "execution_count": 17,
   "metadata": {},
   "outputs": [],
   "source": [
    "process_3 = ql.BlackScholesMertonProcess(ql.QuoteHandle(u), ql.YieldTermStructureHandle(risk_free_curve), ql.YieldTermStructureHandle(risk_free_curve), ql.BlackVolTermStructureHandle(volatility))\n",
    "option_3 = ql.EuropeanOption(ql.PlainVanillaPayoff(ql.Option.Call, 100.0), ql.EuropeanExercise(today+100))\n",
    "option_3.setPricingEngine(ql.AnalyticEuropeanEngine(process_3))"
   ]
  },
  {
   "cell_type": "code",
   "execution_count": 18,
   "metadata": {},
   "outputs": [
    {
     "name": "stdout",
     "output_type": "stream",
     "text": [
      "0.5195711146255227\n0.5195711052036867\n"
     ]
    }
   ],
   "source": [
    "print(option_3.delta())\n",
    "print(greek(option_3, u, 0.01))"
   ]
  },
  {
   "cell_type": "code",
   "execution_count": 19,
   "metadata": {},
   "outputs": [
    {
     "name": "stdout",
     "output_type": "stream",
     "text": [
      "13.268193390322908\n-1.1643375714971693\n-1.1643375864700545\n"
     ]
    }
   ],
   "source": [
    "print(option_3.rho())\n",
    "print(option_3.rho() + option_3.dividendRho())\n",
    "print(greek(option_3, r, 0.001))"
   ]
  },
  {
   "cell_type": "code",
   "execution_count": null,
   "metadata": {},
   "outputs": [],
   "source": []
  }
 ],
 "metadata": {
  "kernelspec": {
   "display_name": "Python 2",
   "language": "python",
   "name": "python2"
  },
  "language_info": {
   "codemirror_mode": {
    "name": "ipython",
    "version": 2
   },
   "file_extension": ".py",
   "mimetype": "text/x-python",
   "name": "python",
   "nbconvert_exporter": "python",
   "pygments_lexer": "ipython2",
   "version": "2.7.6"
  }
 },
 "nbformat": 4,
 "nbformat_minor": 0
}
