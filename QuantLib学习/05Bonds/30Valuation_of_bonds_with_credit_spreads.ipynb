{
 "cells": [
  {
   "cell_type": "code",
   "execution_count": 1,
   "metadata": {
    "collapsed": true
   },
   "outputs": [],
   "source": [
    "import QuantLib as ql\n",
    "calc_date = ql.Date(26, 7, 2016)\n",
    "ql.Settings.instance().evaluationDate = calc_date"
   ]
  },
  {
   "cell_type": "code",
   "execution_count": 2,
   "metadata": {},
   "outputs": [],
   "source": [
    "flat_rate = ql.SimpleQuote(0.0015)\n",
    "rate_handle = ql.QuoteHandle(flat_rate)\n",
    "day_count = ql.Actual360()\n",
    "calendar = ql.UnitedStates()\n",
    "ts_yield = ql.FlatForward(calc_date, rate_handle, day_count)\n",
    "ts_handle = ql.YieldTermStructureHandle(ts_yield)"
   ]
  },
  {
   "cell_type": "code",
   "execution_count": 3,
   "metadata": {},
   "outputs": [],
   "source": [
    "issue_date = ql.Date(15, 7, 2016)\n",
    "maturity_date = ql.Date(15, 7, 2021)\n",
    "tenor = ql.Period(ql.Semiannual)\n",
    "calendar = ql.UnitedStates()\n",
    "bussiness_convention = ql.Unadjusted\n",
    "date_generation = ql.DateGeneration.Backward\n",
    "month_end = False\n",
    "schedule = ql.Schedule(issue_date, maturity_date, tenor, calendar, bussiness_convention, bussiness_convention, date_generation, month_end)"
   ]
  },
  {
   "cell_type": "code",
   "execution_count": 4,
   "metadata": {},
   "outputs": [],
   "source": [
    "settlement_days = 2\n",
    "day_count = ql.Thirty360()\n",
    "coupon_rate = 0.03\n",
    "coupons = [coupon_rate]\n",
    "\n",
    "settlement_days = 0\n",
    "facv_value = 100\n",
    "fixed_rate_bond = ql.FixedRateBond(settlement_days, facv_value, schedule, coupons, day_count)"
   ]
  },
  {
   "cell_type": "code",
   "execution_count": 5,
   "metadata": {},
   "outputs": [
    {
     "data": {
      "text/plain": [
       "114.18461651948999"
      ]
     },
     "execution_count": 5,
     "metadata": {},
     "output_type": "execute_result"
    }
   ],
   "source": [
    "bond_engine = ql.DiscountingBondEngine(ts_handle)\n",
    "fixed_rate_bond.setPricingEngine(bond_engine)\n",
    "fixed_rate_bond.NPV()"
   ]
  },
  {
   "cell_type": "code",
   "execution_count": 6,
   "metadata": {},
   "outputs": [
    {
     "data": {
      "text/plain": [
       "111.5097766266561"
      ]
     },
     "execution_count": 6,
     "metadata": {},
     "output_type": "execute_result"
    }
   ],
   "source": [
    "flat_rate.setValue(0.0065)\n",
    "fixed_rate_bond.NPV()"
   ]
  },
  {
   "cell_type": "code",
   "execution_count": 7,
   "metadata": {},
   "outputs": [
    {
     "data": {
      "text/plain": [
       "114.18461651948999"
      ]
     },
     "execution_count": 7,
     "metadata": {},
     "output_type": "execute_result"
    }
   ],
   "source": [
    "flat_rate.setValue(0.0015)\n",
    "fixed_rate_bond.NPV()"
   ]
  },
  {
   "cell_type": "code",
   "execution_count": 8,
   "metadata": {},
   "outputs": [
    {
     "data": {
      "text/plain": [
       "111.50977662665609"
      ]
     },
     "execution_count": 8,
     "metadata": {},
     "output_type": "execute_result"
    }
   ],
   "source": [
    "spread1 = ql.SimpleQuote(0.0050)\n",
    "spread_handle1 = ql.QuoteHandle(spread1)\n",
    "ts_spreaded1 = ql.ZeroSpreadedTermStructure(ts_handle, spread_handle1)\n",
    "ts_spreaded_handle1 = ql.YieldTermStructureHandle(ts_spreaded1)\n",
    "\n",
    "bond_engine = ql.DiscountingBondEngine(ts_spreaded_handle1)\n",
    "fixed_rate_bond.setPricingEngine(bond_engine)\n",
    "\n",
    "fixed_rate_bond.NPV()"
   ]
  },
  {
   "cell_type": "code",
   "execution_count": 9,
   "metadata": {},
   "outputs": [
    {
     "data": {
      "text/plain": [
       "108.89999943320038"
      ]
     },
     "execution_count": 9,
     "metadata": {},
     "output_type": "execute_result"
    }
   ],
   "source": [
    "spread1.setValue(0.01)\n",
    "fixed_rate_bond.NPV()"
   ]
  },
  {
   "cell_type": "code",
   "execution_count": 10,
   "metadata": {},
   "outputs": [
    {
     "data": {
      "text/plain": [
       "111.50977662665609"
      ]
     },
     "execution_count": 10,
     "metadata": {},
     "output_type": "execute_result"
    }
   ],
   "source": [
    "spread21 = ql.SimpleQuote(0.0050)\n",
    "spread22 = ql.SimpleQuote(0.0050)\n",
    "start_date = calc_date\n",
    "end_date = calendar.advance(start_date, ql.Period(50, ql.Years))\n",
    "ts_spreaded2 = ql.SpreadedLinearZeroInterpolatedTermStructure(ts_handle, [ql.QuoteHandle(spread21), ql.QuoteHandle(spread22)], [start_date, end_date])\n",
    "ts_spreaded_handle2 = ql.YieldTermStructureHandle(ts_spreaded2)\n",
    "\n",
    "bond_engine = ql.DiscountingBondEngine(ts_spreaded_handle2)\n",
    "fixed_rate_bond.setPricingEngine(bond_engine)\n",
    "\n",
    "fixed_rate_bond.NPV()"
   ]
  },
  {
   "cell_type": "code",
   "execution_count": 11,
   "metadata": {},
   "outputs": [
    {
     "data": {
      "text/plain": [
       "108.89999943320038"
      ]
     },
     "execution_count": 11,
     "metadata": {},
     "output_type": "execute_result"
    }
   ],
   "source": [
    "spread21.setValue(0.01)\n",
    "spread22.setValue(0.01)\n",
    "fixed_rate_bond.NPV()"
   ]
  },
  {
   "cell_type": "code",
   "execution_count": 12,
   "metadata": {},
   "outputs": [
    {
     "data": {
      "text/plain": [
       "111.25358792334083"
      ]
     },
     "execution_count": 12,
     "metadata": {},
     "output_type": "execute_result"
    }
   ],
   "source": [
    "spread21.setValue(0.005)\n",
    "spread22.setValue(0.01)\n",
    "fixed_rate_bond.NPV()"
   ]
  },
  {
   "cell_type": "code",
   "execution_count": null,
   "metadata": {},
   "outputs": [],
   "source": []
  }
 ],
 "metadata": {
  "kernelspec": {
   "display_name": "Python 2",
   "language": "python",
   "name": "python2"
  },
  "language_info": {
   "codemirror_mode": {
    "name": "ipython",
    "version": 2
   },
   "file_extension": ".py",
   "mimetype": "text/x-python",
   "name": "python",
   "nbconvert_exporter": "python",
   "pygments_lexer": "ipython2",
   "version": "2.7.6"
  }
 },
 "nbformat": 4,
 "nbformat_minor": 0
}
