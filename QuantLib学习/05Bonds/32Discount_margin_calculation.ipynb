{
 "cells": [
  {
   "cell_type": "code",
   "execution_count": 1,
   "metadata": {
    "collapsed": true
   },
   "outputs": [],
   "source": [
    "import QuantLib as ql"
   ]
  },
  {
   "cell_type": "code",
   "execution_count": 2,
   "metadata": {},
   "outputs": [],
   "source": [
    "today = ql.Date(8, ql.October, 2014)\n",
    "ql.Settings.instance().evaluationDate = today"
   ]
  },
  {
   "cell_type": "code",
   "execution_count": 3,
   "metadata": {},
   "outputs": [],
   "source": [
    "forecast_curve = ql.RelinkableYieldTermStructureHandle()\n",
    "discount_curve = ql.RelinkableYieldTermStructureHandle()"
   ]
  },
  {
   "cell_type": "code",
   "execution_count": 4,
   "metadata": {},
   "outputs": [],
   "source": [
    "index = ql.Euribor6M(forecast_curve)"
   ]
  },
  {
   "cell_type": "code",
   "execution_count": 5,
   "metadata": {},
   "outputs": [],
   "source": [
    "issueDate = ql.Date(13, ql.October, 2014)\n",
    "maturityDate = ql.Date(13, ql.October, 2024)\n",
    "schedule = ql.Schedule(issueDate, maturityDate, ql.Period(ql.Semiannual), ql.TARGET(), ql.Following, ql.Following, ql.DateGeneration.Backward, False)"
   ]
  },
  {
   "cell_type": "code",
   "execution_count": 6,
   "metadata": {},
   "outputs": [],
   "source": [
    "bond = ql.FloatingRateBond(settlementDays=3, faceAmount=100, schedule=schedule, index=index, paymentDayCounter=ql.Actual360(), paymentConvention=ql.Following, fixingDays=index.fixingDays(), gearings=[],\n",
    "                           spreads=[], caps=[], floors=[], inArrears=False, redemption=100.0, issueDate=issueDate)\n",
    "bond.setPricingEngine(ql.DiscountingBondEngine(discount_curve))"
   ]
  },
  {
   "cell_type": "code",
   "execution_count": 7,
   "metadata": {},
   "outputs": [],
   "source": [
    "forecast_curve.linkTo(ql.FlatForward(0, ql.TARGET(), 0.002, ql.Actual360()))"
   ]
  },
  {
   "cell_type": "code",
   "execution_count": 8,
   "metadata": {},
   "outputs": [],
   "source": [
    "DM = ql.SimpleQuote(0.0)\n",
    "discount_curve.linkTo((ql.ZeroSpreadedTermStructure(forecast_curve, ql.QuoteHandle(DM))))"
   ]
  },
  {
   "cell_type": "code",
   "execution_count": 9,
   "metadata": {},
   "outputs": [
    {
     "name": "stdout",
     "output_type": "stream",
     "text": [
      "100.00000000000001\n"
     ]
    }
   ],
   "source": [
    "print(bond.cleanPrice())"
   ]
  },
  {
   "cell_type": "code",
   "execution_count": 10,
   "metadata": {},
   "outputs": [
    {
     "name": "stdout",
     "output_type": "stream",
     "text": [
      "98.99979030764418\n"
     ]
    }
   ],
   "source": [
    "DM.setValue(0.001)\n",
    "print(bond.cleanPrice())"
   ]
  },
  {
   "cell_type": "code",
   "execution_count": 11,
   "metadata": {},
   "outputs": [],
   "source": [
    "def F(price):\n",
    "    def _f(s):\n",
    "        DM.setValue(s)\n",
    "        return bond.cleanPrice() - price\n",
    "    return _f"
   ]
  },
  {
   "cell_type": "code",
   "execution_count": 12,
   "metadata": {},
   "outputs": [
    {
     "name": "stdout",
     "output_type": "stream",
     "text": [
      "1.00020969240002\n-0.9901429992548856\n"
     ]
    }
   ],
   "source": [
    "f = F(98.9997903076)\n",
    "print(f(0.0))\n",
    "print(f(0.002))"
   ]
  },
  {
   "cell_type": "code",
   "execution_count": 13,
   "metadata": {},
   "outputs": [
    {
     "name": "stdout",
     "output_type": "stream",
     "text": [
      "0.00039870328652332745\n"
     ]
    }
   ],
   "source": [
    "margin = ql.Brent().solve(F(99.6), 1e-8, 0.0, 1e-4)\n",
    "print(margin)"
   ]
  },
  {
   "cell_type": "code",
   "execution_count": 14,
   "metadata": {},
   "outputs": [
    {
     "name": "stdout",
     "output_type": "stream",
     "text": [
      "99.59999988275108\n"
     ]
    }
   ],
   "source": [
    "DM.setValue(margin)\n",
    "print(bond.cleanPrice())"
   ]
  },
  {
   "cell_type": "code",
   "execution_count": 16,
   "metadata": {},
   "outputs": [
    {
     "name": "stdout",
     "output_type": "stream",
     "text": [
      "0.039874 % Actual/360 simple compounding\n"
     ]
    }
   ],
   "source": [
    "value_date = index.valueDate(today)\n",
    "maturity_date = index.maturityDate(today)\n",
    "print(ql.InterestRate(margin, discount_curve.dayCounter(), ql.Continuous, ql.NoFrequency).equivalentRate(index.dayCounter(), ql.Simple, index.tenor().frequency(), value_date, maturity_date))"
   ]
  },
  {
   "cell_type": "code",
   "execution_count": 17,
   "metadata": {},
   "outputs": [],
   "source": [
    "exerciseDate = today + ql.Period(1, ql.Years)\n",
    "fixingDates = [today + ql.Period(n, ql.Months) for n in range(1, 12)]\n",
    "option = ql.DiscreteAveragingAsianOption(ql.Average.Arithmetic, 0.0, 0, fixingDates, ql.PlainVanillaPayoff(ql.Option.Call, 100.0), ql.EuropeanExercise(exerciseDate))"
   ]
  },
  {
   "cell_type": "code",
   "execution_count": 19,
   "metadata": {},
   "outputs": [],
   "source": [
    "sigma = ql.SimpleQuote(0.20)\n",
    "riskFreeCurve = ql.FlatForward(0, ql.TARGET(), 0.01, ql.Actual360())\n",
    "volatility = ql.BlackConstantVol(0, ql.TARGET(), ql.QuoteHandle(sigma), ql.Actual360())\n",
    "\n",
    "process = ql.BlackScholesProcess(ql.QuoteHandle(ql.SimpleQuote(100.0)), ql.YieldTermStructureHandle(riskFreeCurve), ql.BlackVolTermStructureHandle(volatility))"
   ]
  },
  {
   "cell_type": "code",
   "execution_count": 20,
   "metadata": {},
   "outputs": [],
   "source": [
    "option.setPricingEngine(ql.MCDiscreteArithmeticAPEngine(process, \"pseudorandom\", requiredSamples=1000, seed=42))"
   ]
  },
  {
   "cell_type": "code",
   "execution_count": 21,
   "metadata": {},
   "outputs": [],
   "source": [
    "def F(price):\n",
    "    def _f(v):\n",
    "        sigma.setValue(v)\n",
    "        return option.NPV() - price\n",
    "    return _f"
   ]
  },
  {
   "cell_type": "code",
   "execution_count": 22,
   "metadata": {},
   "outputs": [
    {
     "name": "stdout",
     "output_type": "stream",
     "text": [
      "0.20081193864526342\n"
     ]
    }
   ],
   "source": [
    "print(ql.Brent().solve(F(5.0), 1e-8, 0.20, 1e-4))"
   ]
  },
  {
   "cell_type": "code",
   "execution_count": 23,
   "metadata": {},
   "outputs": [
    {
     "name": "stdout",
     "output_type": "stream",
     "text": [
      "0.24362397543255399\n"
     ]
    }
   ],
   "source": [
    "print(ql.Brent().solve(F(6.0), 1e-8, 0.20, 1e-4))"
   ]
  },
  {
   "cell_type": "code",
   "execution_count": null,
   "metadata": {},
   "outputs": [],
   "source": []
  }
 ],
 "metadata": {
  "kernelspec": {
   "display_name": "Python 2",
   "language": "python",
   "name": "python2"
  },
  "language_info": {
   "codemirror_mode": {
    "name": "ipython",
    "version": 2
   },
   "file_extension": ".py",
   "mimetype": "text/x-python",
   "name": "python",
   "nbconvert_exporter": "python",
   "pygments_lexer": "ipython2",
   "version": "2.7.6"
  }
 },
 "nbformat": 4,
 "nbformat_minor": 0
}
