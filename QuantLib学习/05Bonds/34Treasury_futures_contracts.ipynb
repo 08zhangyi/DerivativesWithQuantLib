{
 "cells": [
  {
   "cell_type": "code",
   "execution_count": 1,
   "metadata": {
    "collapsed": true
   },
   "outputs": [],
   "source": [
    "import QuantLib as ql\n",
    "import math\n",
    "import pandas as pd"
   ]
  },
  {
   "cell_type": "code",
   "execution_count": 2,
   "metadata": {},
   "outputs": [],
   "source": [
    "calc_date = ql.Date(30, 11, 2015)\n",
    "ql.Settings.instance().evaluationDate = calc_date\n",
    "day_count = ql.ActualActual()\n",
    "calendar = ql.UnitedStates()\n",
    "bussiness_convention = ql.Following\n",
    "end_of_month = False\n",
    "settlement_days = 0\n",
    "face_amount = 100\n",
    "coupon_frequency = ql.Period(ql.Semiannual)"
   ]
  },
  {
   "cell_type": "code",
   "execution_count": 4,
   "metadata": {},
   "outputs": [],
   "source": [
    "prices = [99.9935, 99.9576, 99.8119, 99.5472, 99.8867, 100.0664, 99.8711, 100.0547, 100.3047, 100.2266]\n",
    "coupon_rates = [0.0000, 0.0000, 0.0000, 0.0000, 0.00875, 0.0125, 0.01625, 0.02, 0.0225, 0.03]\n",
    "maturity_dates = [ql.Date(24, 12, 2015), ql.Date(25, 2, 2016), ql.Date(26, 5, 2016), ql.Date(10, 11, 2016),\n",
    "                  ql.Date(30, 11, 2017), ql.Date(15, 11, 2018), ql.Date(30, 11, 2020), ql.Date(30, 11, 2022),\n",
    "                  ql.Date(15, 11, 2025), ql.Date(15, 11, 2045)]\n",
    "issue_dates = [ql.Date(25, 6, 2015), ql.Date(27, 8, 2015), ql.Date(28, 5, 2015), ql.Date(12, 11, 2015),\n",
    "               ql.Date(30, 11, 2015), ql.Date(16, 11, 2015), ql.Date(30, 11, 2015), ql.Date(30, 11, 2015),\n",
    "               ql.Date(16, 11, 2015), ql.Date(16, 11, 2015)]\n",
    "\n",
    "coupon_frequency = ql.Period(6, ql.Months)\n",
    "\n",
    "bond_helpers = []\n",
    "for coupon, issue_date, maturity_date, price in zip(coupon_rates, issue_dates, maturity_dates, prices):\n",
    "    schedule = ql.Schedule(calc_date, maturity_date, coupon_frequency, calendar, bussiness_convention, bussiness_convention, ql.DateGeneration.Backward, False)\n",
    "    helper = ql.FixedRateBondHelper(ql.QuoteHandle(ql.SimpleQuote(price)), settlement_days, face_amount, schedule, [coupon], day_count, bussiness_convention)\n",
    "    bond_helpers.append(helper)"
   ]
  },
  {
   "cell_type": "code",
   "execution_count": 5,
   "metadata": {},
   "outputs": [
    {
     "data": {
      "text/html": [
       "<div>\n",
       "<style>\n",
       "    .dataframe thead tr:only-child th {\n",
       "        text-align: right;\n",
       "    }\n",
       "\n",
       "    .dataframe thead th {\n",
       "        text-align: left;\n",
       "    }\n",
       "\n",
       "    .dataframe tbody tr th {\n",
       "        vertical-align: top;\n",
       "    }\n",
       "</style>\n",
       "<table border=\"1\" class=\"dataframe\">\n",
       "  <thead>\n",
       "    <tr style=\"text-align: right;\">\n",
       "      <th></th>\n",
       "      <th>Dates</th>\n",
       "      <th>Discount Factors</th>\n",
       "    </tr>\n",
       "  </thead>\n",
       "  <tbody>\n",
       "    <tr>\n",
       "      <th></th>\n",
       "      <td>December 24th, 2015</td>\n",
       "      <td>0.999935</td>\n",
       "    </tr>\n",
       "    <tr>\n",
       "      <th></th>\n",
       "      <td>February 25th, 2016</td>\n",
       "      <td>0.999576</td>\n",
       "    </tr>\n",
       "    <tr>\n",
       "      <th></th>\n",
       "      <td>May 26th, 2016</td>\n",
       "      <td>0.998119</td>\n",
       "    </tr>\n",
       "    <tr>\n",
       "      <th></th>\n",
       "      <td>November 10th, 2016</td>\n",
       "      <td>0.995472</td>\n",
       "    </tr>\n",
       "    <tr>\n",
       "      <th></th>\n",
       "      <td>November 30th, 2017</td>\n",
       "      <td>0.981524</td>\n",
       "    </tr>\n",
       "    <tr>\n",
       "      <th></th>\n",
       "      <td>November 15th, 2018</td>\n",
       "      <td>0.964278</td>\n",
       "    </tr>\n",
       "    <tr>\n",
       "      <th></th>\n",
       "      <td>November 30th, 2020</td>\n",
       "      <td>0.920306</td>\n",
       "    </tr>\n",
       "    <tr>\n",
       "      <th></th>\n",
       "      <td>November 30th, 2022</td>\n",
       "      <td>0.868533</td>\n",
       "    </tr>\n",
       "    <tr>\n",
       "      <th></th>\n",
       "      <td>November 15th, 2025</td>\n",
       "      <td>0.799447</td>\n",
       "    </tr>\n",
       "    <tr>\n",
       "      <th></th>\n",
       "      <td>November 15th, 2045</td>\n",
       "      <td>0.384829</td>\n",
       "    </tr>\n",
       "  </tbody>\n",
       "</table>\n",
       "</div>"
      ],
      "text/plain": [
       "<div>\n",
       "<style>\n",
       "    .dataframe thead tr:only-child th {\n",
       "        text-align: right;\n",
       "    }\n",
       "\n",
       "    .dataframe thead th {\n",
       "        text-align: left;\n",
       "    }\n",
       "\n",
       "    .dataframe tbody tr th {\n",
       "        vertical-align: top;\n",
       "    }\n",
       "</style>\n",
       "<table border=\"1\" class=\"dataframe\">\n",
       "  <thead>\n",
       "    <tr style=\"text-align: right;\">\n",
       "      <th></th>\n",
       "      <th>Dates</th>\n",
       "      <th>Discount Factors</th>\n",
       "    </tr>\n",
       "  </thead>\n",
       "  <tbody>\n",
       "    <tr>\n",
       "      <th></th>\n",
       "      <td>December 24th, 2015</td>\n",
       "      <td>0.999935</td>\n",
       "    </tr>\n",
       "    <tr>\n",
       "      <th></th>\n",
       "      <td>February 25th, 2016</td>\n",
       "      <td>0.999576</td>\n",
       "    </tr>\n",
       "    <tr>\n",
       "      <th></th>\n",
       "      <td>May 26th, 2016</td>\n",
       "      <td>0.998119</td>\n",
       "    </tr>\n",
       "    <tr>\n",
       "      <th></th>\n",
       "      <td>November 10th, 2016</td>\n",
       "      <td>0.995472</td>\n",
       "    </tr>\n",
       "    <tr>\n",
       "      <th></th>\n",
       "      <td>November 30th, 2017</td>\n",
       "      <td>0.981524</td>\n",
       "    </tr>\n",
       "    <tr>\n",
       "      <th></th>\n",
       "      <td>November 15th, 2018</td>\n",
       "      <td>0.964278</td>\n",
       "    </tr>\n",
       "    <tr>\n",
       "      <th></th>\n",
       "      <td>November 30th, 2020</td>\n",
       "      <td>0.920306</td>\n",
       "    </tr>\n",
       "    <tr>\n",
       "      <th></th>\n",
       "      <td>November 30th, 2022</td>\n",
       "      <td>0.868533</td>\n",
       "    </tr>\n",
       "    <tr>\n",
       "      <th></th>\n",
       "      <td>November 15th, 2025</td>\n",
       "      <td>0.799447</td>\n",
       "    </tr>\n",
       "    <tr>\n",
       "      <th></th>\n",
       "      <td>November 15th, 2045</td>\n",
       "      <td>0.384829</td>\n",
       "    </tr>\n",
       "  </tbody>\n",
       "</table>\n",
       "</div>"
      ]
     },
     "execution_count": 5,
     "metadata": {},
     "output_type": "execute_result"
    }
   ],
   "source": [
    "yield_curve = ql.PiecewiseCubicZero(calc_date, bond_helpers, day_count)\n",
    "yield_curve_handle = ql.YieldTermStructureHandle(yield_curve)\n",
    "discount_factors = [yield_curve.discount(d) for d in maturity_dates]\n",
    "pd.DataFrame(list(zip(maturity_dates, discount_factors)), columns=[\"Dates\", \"Discount Factors\"], index=['']*len(maturity_dates))"
   ]
  },
  {
   "cell_type": "code",
   "execution_count": 6,
   "metadata": {},
   "outputs": [],
   "source": [
    "def create_tsy_security(bond_issue_date, bond_maturity_date, coupon_rate, coupon_frequency=ql.Period(6, ql.Months), day_count=ql.ActualActual(), calendar=ql.UnitedStates()):\n",
    "    face_value = 100.\n",
    "    settlement_days = 0\n",
    "    schedule = ql.Schedule(bond_issue_date, bond_maturity_date, coupon_frequency, calendar, ql.ModifiedFollowing, ql.ModifiedFollowing, ql.DateGeneration.Forward, False)\n",
    "    security = ql.FixedRateBond(settlement_days, face_value, schedule, [coupon_rate], day_count)\n",
    "    return security"
   ]
  },
  {
   "cell_type": "code",
   "execution_count": 7,
   "metadata": {},
   "outputs": [],
   "source": [
    "bond_issue_date = calc_date\n",
    "delivery_date = ql.Date(1, 12, 2015)\n",
    "\n",
    "bond_maturity_date = bond_issue_date + ql.Period(10, ql.Years)\n",
    "day_count = ql.ActualActual()\n",
    "coupon_frequency = ql.Period(6, ql.Months)\n",
    "coupon_rate = 6/100.\n",
    "\n",
    "deliverable = create_tsy_security(bond_issue_date, bond_maturity_date, coupon_rate, coupon_frequency, day_count, calendar)\n",
    "bond_engine = ql.DiscountingBondEngine(yield_curve_handle)\n",
    "deliverable.setPricingEngine(bond_engine)"
   ]
  },
  {
   "cell_type": "code",
   "execution_count": 8,
   "metadata": {},
   "outputs": [
    {
     "name": "stdout",
     "output_type": "stream",
     "text": [
      "Z-Spread = 71pb\n"
     ]
    }
   ],
   "source": [
    "futures_price = 127.0625\n",
    "clean_price = futures_price*yield_curve.discount(delivery_date)\n",
    "\n",
    "zspread = ql.BondFunctions.zSpread(deliverable, clean_price, yield_curve, day_count, ql.Compounded, ql.Semiannual, calc_date) * 10000\n",
    "print(\"Z-Spread =%3.0fpb\" % (zspread))"
   ]
  },
  {
   "cell_type": "code",
   "execution_count": 10,
   "metadata": {},
   "outputs": [
    {
     "name": "stdout",
     "output_type": "stream",
     "text": [
      "Minimum Basis                  = 0.450601\nConversion Factor              = 0.791830\nCoupon                         = 2.125000\nMaturity                       = June 30th, 2022\nPrice                          = 101.062500\n"
     ]
    }
   ],
   "source": [
    "day_count = ql.ActualActual()\n",
    "basket = [(1.625, ql.Date(15, 8, 2022), 97.921875),\n",
    "          (1.625, ql.Date(15, 11, 2022), 97.671875),\n",
    "          (1.75, ql.Date(30, 9, 2022), 98.546875),\n",
    "          (1.75, ql.Date(15, 5, 2023), 97.984375),\n",
    "          (1.875, ql.Date(31, 8, 2022), 99.375),\n",
    "          (1.875, ql.Date(31, 10, 2022), 99.296875),\n",
    "          (2.0, ql.Date(31, 7, 2022), 100.265625),\n",
    "          (2.0, ql.Date(15, 2, 2023), 100.0625),\n",
    "          (2.0, ql.Date(15, 2, 2025), 98.296875),\n",
    "          (2.0, ql.Date(15, 8, 2025), 98.09375),\n",
    "          (2.125, ql.Date(30, 6, 2022), 101.0625),\n",
    "          (2.125, ql.Date(15, 5, 2025), 99.25),\n",
    "          (2.25, ql.Date(15, 11, 2024), 100.546875),\n",
    "          (2.25, ql.Date(15, 11, 2025), 100.375),\n",
    "          (2.375, ql.Date(15, 8, 2024), 101.671875),\n",
    "          (2.5, ql.Date(15, 8, 2023), 103.25),\n",
    "          (2.5, ql.Date(15, 5, 2024), 102.796875),\n",
    "          (2.75, ql.Date(15, 11, 2023), 105.0625),\n",
    "          (2.75, ql.Date(15, 2, 2024), 104.875)]\n",
    "securities = []\n",
    "min_basis = 100\n",
    "min_basis_index = -1\n",
    "for i, b in enumerate(basket):\n",
    "    coupon, maturity, price = b\n",
    "    issue = maturity - ql.Period(10, ql.Years)\n",
    "    s = create_tsy_security(issue, maturity, coupon/100.)\n",
    "    bond_engine = ql.DiscountingBondEngine(yield_curve_handle)\n",
    "    s.setPricingEngine(bond_engine)\n",
    "    cf = ql.BondFunctions.cleanPrice(s, 0.06, day_count, ql.Compounded, ql.Semiannual, calc_date)/100.0\n",
    "    adjusted_futures_price = futures_price * cf\n",
    "    basis = price - adjusted_futures_price\n",
    "    if basis < min_basis:\n",
    "        min_basis = basis\n",
    "        min_basis_index = i\n",
    "    securities.append((s, cf))\n",
    "ctd_info = basket[min_basis_index]\n",
    "ctd_bond, ctd_cf = securities[min_basis_index]\n",
    "ctd_price = ctd_info[2]\n",
    "print(\"%-30s = %lf\" % (\"Minimum Basis\", min_basis))\n",
    "print(\"%-30s = %lf\" % (\"Conversion Factor\", ctd_cf))\n",
    "print(\"%-30s = %lf\" % (\"Coupon\", ctd_info[0]))\n",
    "print(\"%-30s = %s\" % (\"Maturity\", ctd_info[1]))\n",
    "print(\"%-30s = %lf\" % (\"Price\", ctd_info[2]))"
   ]
  },
  {
   "cell_type": "code",
   "execution_count": 12,
   "metadata": {},
   "outputs": [],
   "source": [
    "futures_maturity_date = ql.Date(21, 12, 2015)\n",
    "futures = ql.FixedRateBondForward(calc_date, futures_maturity_date, \n",
    "                                  ql.Position.Long, 0.0, settlement_days, day_count, calendar, bussiness_convention, ctd_bond, yield_curve_handle, yield_curve_handle)"
   ]
  },
  {
   "cell_type": "code",
   "execution_count": 13,
   "metadata": {},
   "outputs": [
    {
     "name": "stdout",
     "output_type": "stream",
     "text": [
      "Model Futures Price            = 127.610365\nMarket Futures Price           = 127.062500\nModel Adjustment               = 0.547865\nImplied Yield                  = -7.473\nForward Z-Spread               = 0.0bps\nForward YTM                    = 1.952%\n"
     ]
    }
   ],
   "source": [
    "model_futures_price = futures.cleanForwardPrice()/ctd_cf\n",
    "implied_yield = futures.impliedYield(ctd_price/ctd_cf, futures_price, calc_date, ql.Compounded, day_count).rate()\n",
    "z_spread = ql.BondFunctions.zSpread(ctd_bond, ctd_price, yield_curve, day_count, ql.Compounded, ql.Semiannual, calc_date)\n",
    "ytm = ql.BondFunctions.bondYield(ctd_bond, ctd_price, day_count, ql.Compounded, ql.Semiannual, calc_date)\n",
    "print(\"%-30s = %lf\" % (\"Model Futures Price\", model_futures_price))\n",
    "print(\"%-30s = %lf\" % (\"Market Futures Price\", futures_price))\n",
    "print(\"%-30s = %lf\" % (\"Model Adjustment\", model_futures_price-futures_price))\n",
    "print(\"%-30s = %2.3f\" % (\"Implied Yield\", implied_yield*100))\n",
    "print(\"%-30s = %2.1fbps\" % (\"Forward Z-Spread\", z_spread*100))\n",
    "print(\"%-30s = %2.3f%%\" % (\"Forward YTM\", ytm*100))"
   ]
  },
  {
   "cell_type": "code",
   "execution_count": null,
   "metadata": {},
   "outputs": [],
   "source": []
  }
 ],
 "metadata": {
  "kernelspec": {
   "display_name": "Python 2",
   "language": "python",
   "name": "python2"
  },
  "language_info": {
   "codemirror_mode": {
    "name": "ipython",
    "version": 2
   },
   "file_extension": ".py",
   "mimetype": "text/x-python",
   "name": "python",
   "nbconvert_exporter": "python",
   "pygments_lexer": "ipython2",
   "version": "2.7.6"
  }
 },
 "nbformat": 4,
 "nbformat_minor": 0
}
