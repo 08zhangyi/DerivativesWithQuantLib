{
 "cells": [
  {
   "cell_type": "code",
   "execution_count": null,
   "metadata": {
    "collapsed": true
   },
   "outputs": [],
   "source": [
    "import QuantLib as ql\n",
    "import pandas as pd"
   ]
  },
  {
   "cell_type": "code",
   "execution_count": null,
   "metadata": {},
   "outputs": [],
   "source": [
    "today = ql.Date(5, ql.January, 2010)\n",
    "ql.Settings.instance().evaluationDate = today\n",
    "\n",
    "discounting_curve = ql.RelinkableYieldTermStructureHandle()\n",
    "forecasting_curve = ql.RelinkableYieldTermStructureHandle()\n",
    "\n",
    "index = ql.USDLibor(ql.Period(3, ql.Months), forecasting_curve)\n",
    "\n",
    "settlement_days = 0\n",
    "calendar = ql.NullCalendar()\n",
    "\n",
    "face_amount = 100.0\n",
    "schedule = ql.Schedule(today, today+ql.Period(4, ql.Years), ql.Period(3, ql.Months), calendar, ql.Unadjusted, ql.Unadjusted, ql.DateGeneration.Forward, False)\n",
    "\n",
    "bond = ql.FloatingRateBond(settlement_days, face_amount, schedule, index, ql.Thirty360(), ql.Unadjusted, fixingDays=0)\n",
    "\n",
    "bond.setPricingEngine(ql.DiscountingBondEngine(discounting_curve))"
   ]
  },
  {
   "cell_type": "code",
   "execution_count": null,
   "metadata": {},
   "outputs": [],
   "source": [
    "flat_rate = ql.FlatForward(today, 0.10, ql.Thirty360(), ql.Compounded, ql.Quarterly)\n",
    "forecasting_curve.linkTo(flat_rate)\n",
    "discounting_curve.linkTo(flat_rate)"
   ]
  },
  {
   "cell_type": "code",
   "execution_count": null,
   "metadata": {},
   "outputs": [],
   "source": [
    "print(bond.cleanPrice())"
   ]
  },
  {
   "cell_type": "code",
   "execution_count": null,
   "metadata": {},
   "outputs": [],
   "source": [
    "print(flat_rate.dayCounter())\n",
    "print(ql.as_coupon(bond.cashflows()[0]).dayCounter())\n",
    "print(index.dayCounter())"
   ]
  },
  {
   "cell_type": "code",
   "execution_count": null,
   "metadata": {},
   "outputs": [],
   "source": [
    "coupons = [ql.as_coupon(c) for c in bond.cashflows()[:-1]]\n",
    "pd.DataFrame([(c.date(), c.rate(), c.accrualPriod()) for c in coupons], columns=('Date', 'Rate', 'Accrual period'), index=range(1, len(coupons)+1))"
   ]
  },
  {
   "cell_type": "code",
   "execution_count": null,
   "metadata": {},
   "outputs": [],
   "source": [
    "bond = ql.FloatingRateBond(settlement_days, face_amount, schedule, index, ql.Actual360(), ql.Unadjusted, fixingDays=0)\n",
    "bond.setPricingEngine(ql.DiscountingBondEngine(discounting_curve))"
   ]
  },
  {
   "cell_type": "code",
   "execution_count": null,
   "metadata": {},
   "outputs": [],
   "source": [
    "flat_rate_2 = ql.FlatForward(today, 0.10, ql.Actual360(), ql.Compounded, ql.Quarterly)\n",
    "forecasting_curve.linkTo(flat_rate_2)\n",
    "discounting_curve.linkTo(flat_rate_2)"
   ]
  },
  {
   "cell_type": "code",
   "execution_count": null,
   "metadata": {},
   "outputs": [],
   "source": [
    "print(bond.cleanPrice())"
   ]
  },
  {
   "cell_type": "code",
   "execution_count": null,
   "metadata": {},
   "outputs": [],
   "source": [
    "coupons = [ql.as_coupon(c) for c in bond.cashflows()[:-1]]\n",
    "pd.DataFrame([(c.date(), c.rate(), c.accrualPriod()) for c in coupons], columns=('Date', 'Rate', 'Accrual period'), index=range(1, len(coupons)+1))"
   ]
  },
  {
   "cell_type": "code",
   "execution_count": null,
   "metadata": {},
   "outputs": [],
   "source": [
    "index = ql.IborIndex('Mock Libor', ql.Period(3, ql.Months), 0, ql.USDCurrency(), ql.NullCalendar(), ql.Unadjusted, False, ql.Thirty360(), forecasting_curve)\n",
    "\n",
    "bond = ql.FloatingRateBond(settlement_days, face_amount, schedule, index, ql.Thirty360(), ql.Unadjusted, fixingDays=0)\n",
    "\n",
    "bond.setPricingEngine(ql.DiscountingBondEngine(discounting_curve))"
   ]
  },
  {
   "cell_type": "code",
   "execution_count": null,
   "metadata": {},
   "outputs": [],
   "source": [
    "forecasting_curve.linkTo(flat_rate)\n",
    "discounting_curve.linkTo(flat_rate)"
   ]
  },
  {
   "cell_type": "code",
   "execution_count": null,
   "metadata": {},
   "outputs": [],
   "source": [
    "print(bond.cleanPrice())"
   ]
  },
  {
   "cell_type": "code",
   "execution_count": null,
   "metadata": {},
   "outputs": [],
   "source": [
    "coupons = [ql.as_coupon(c) for c in bond.cashflows()[:-1]]\n",
    "pd.DataFrame([(c.date(), c.rate(), c.accrualPriod()) for c in coupons], columns=('Date', 'Rate', 'Accrual period'), index=range(1, len(coupons)+1))"
   ]
  }
 ],
 "metadata": {
  "kernelspec": {
   "display_name": "Python 2",
   "language": "python",
   "name": "python2"
  },
  "language_info": {
   "codemirror_mode": {
    "name": "ipython",
    "version": 2
   },
   "file_extension": ".py",
   "mimetype": "text/x-python",
   "name": "python",
   "nbconvert_exporter": "python",
   "pygments_lexer": "ipython2",
   "version": "2.7.6"
  }
 },
 "nbformat": 4,
 "nbformat_minor": 0
}
